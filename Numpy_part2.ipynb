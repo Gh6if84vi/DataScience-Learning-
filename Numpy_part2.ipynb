{
  "nbformat": 4,
  "nbformat_minor": 0,
  "metadata": {
    "colab": {
      "provenance": [],
      "authorship_tag": "ABX9TyOANGivy+zeMXULPR8yKuyP",
      "include_colab_link": true
    },
    "kernelspec": {
      "name": "python3",
      "display_name": "Python 3"
    },
    "language_info": {
      "name": "python"
    }
  },
  "cells": [
    {
      "cell_type": "markdown",
      "metadata": {
        "id": "view-in-github",
        "colab_type": "text"
      },
      "source": [
        "<a href=\"https://colab.research.google.com/github/Gh6if84vi/DataScience-Learning-/blob/main/Numpy_part2.ipynb\" target=\"_parent\"><img src=\"https://colab.research.google.com/assets/colab-badge.svg\" alt=\"Open In Colab\"/></a>"
      ]
    },
    {
      "cell_type": "markdown",
      "source": [
        "Refer this NoteBook after completing Numpy part1 NoteBook"
      ],
      "metadata": {
        "id": "XJH7cb0u1IgR"
      }
    },
    {
      "cell_type": "markdown",
      "source": [
        "# Numpy array vs Python Lists"
      ],
      "metadata": {
        "id": "uzZm-fPS22bI"
      }
    },
    {
      "cell_type": "code",
      "execution_count": 64,
      "metadata": {
        "colab": {
          "base_uri": "https://localhost:8080/"
        },
        "id": "LwzrvHgWzXXv",
        "outputId": "97514a92-f1af-4726-ec53-87a7dc3d4d58"
      },
      "outputs": [
        {
          "output_type": "stream",
          "name": "stdout",
          "text": [
            "9.18057656288147\n",
            "0.48136305809020996\n"
          ]
        }
      ],
      "source": [
        "#speed\n",
        "# Using lists\n",
        "a=[i for i in range(10000000)]\n",
        "b=[i for i in range(10000000,20000000)]\n",
        "c=[]\n",
        "import time\n",
        "start=time.time()\n",
        "for  i in  range(len(a)):\n",
        "  c.append(a[i]+b[i])\n",
        "print(time.time()-start)\n",
        "\n",
        "#using Numpy array\n",
        "import numpy as np\n",
        "c=np.arange(10000000)\n",
        "d=np.arange(10000000,20000000)\n",
        "start1=time.time()\n",
        "e=a+b\n",
        "print(time.time()-start1)\n",
        "\n",
        "\n",
        "##The output shows how fast is Numpy array compared to Normal lists\n"
      ]
    },
    {
      "cell_type": "code",
      "source": [
        "#Memory\n",
        "a=[i for i in range(10000000)]\n",
        "import sys\n",
        "print(sys.getsizeof(a))\n",
        "b=np.arange(10000000,dtype=np.int16)\n",
        "print(sys.getsizeof(b))"
      ],
      "metadata": {
        "colab": {
          "base_uri": "https://localhost:8080/"
        },
        "id": "tW-nCrdS5wO0",
        "outputId": "51f11ff9-1bd0-4720-cda1-0a70ce90a7af"
      },
      "execution_count": 65,
      "outputs": [
        {
          "output_type": "stream",
          "name": "stdout",
          "text": [
            "89095160\n",
            "20000112\n"
          ]
        }
      ]
    },
    {
      "cell_type": "code",
      "source": [
        "#convenience\n",
        "#Operations on numpy arrays are easier way when compared to python list"
      ],
      "metadata": {
        "id": "-NqmxGLA7RTf"
      },
      "execution_count": 66,
      "outputs": []
    },
    {
      "cell_type": "markdown",
      "source": [
        "# **Advanced Indexing**"
      ],
      "metadata": {
        "id": "mpkGwlHp1Hyo"
      }
    },
    {
      "cell_type": "code",
      "source": [
        "#Fancy Indexing-Things that normal indexing cannot do\n",
        "a=np.arange(24).reshape(6,4)\n",
        "print(f\"Array is : \\n{a} \")\n",
        "print()\n",
        "print(a[[0,2,3,5]])\n",
        "print()\n",
        "print(a[:,[0,2,3]])\n",
        "\n"
      ],
      "metadata": {
        "colab": {
          "base_uri": "https://localhost:8080/"
        },
        "id": "JB5hutT98Avv",
        "outputId": "1d5a9700-2f38-40df-d2b9-13a43a29b069"
      },
      "execution_count": 67,
      "outputs": [
        {
          "output_type": "stream",
          "name": "stdout",
          "text": [
            "Array is : \n",
            "[[ 0  1  2  3]\n",
            " [ 4  5  6  7]\n",
            " [ 8  9 10 11]\n",
            " [12 13 14 15]\n",
            " [16 17 18 19]\n",
            " [20 21 22 23]] \n",
            "\n",
            "[[ 0  1  2  3]\n",
            " [ 8  9 10 11]\n",
            " [12 13 14 15]\n",
            " [20 21 22 23]]\n",
            "\n",
            "[[ 0  2  3]\n",
            " [ 4  6  7]\n",
            " [ 8 10 11]\n",
            " [12 14 15]\n",
            " [16 18 19]\n",
            " [20 22 23]]\n"
          ]
        }
      ]
    },
    {
      "cell_type": "code",
      "source": [
        "#boolean indexing\n",
        "import numpy as np\n",
        "a=np.random.randint(1,100,24).reshape(6,4)\n",
        "a"
      ],
      "metadata": {
        "colab": {
          "base_uri": "https://localhost:8080/"
        },
        "id": "onqdujeJ9KAW",
        "outputId": "ecaecbc3-dd05-4236-8547-c96ee0841af3"
      },
      "execution_count": 68,
      "outputs": [
        {
          "output_type": "execute_result",
          "data": {
            "text/plain": [
              "array([[73, 83, 38, 71],\n",
              "       [86, 40, 42, 73],\n",
              "       [52, 67, 10, 61],\n",
              "       [44, 17, 87, 97],\n",
              "       [34, 74,  8, 32],\n",
              "       [84, 20, 55, 75]])"
            ]
          },
          "metadata": {},
          "execution_count": 68
        }
      ]
    },
    {
      "cell_type": "code",
      "source": [
        "#Find all numbers greater than 50\n",
        "print(a[a>50])"
      ],
      "metadata": {
        "colab": {
          "base_uri": "https://localhost:8080/"
        },
        "id": "9uWPeshLCsIl",
        "outputId": "ddfeca5b-0210-4f4f-ae34-60b71a62bac7"
      },
      "execution_count": 69,
      "outputs": [
        {
          "output_type": "stream",
          "name": "stdout",
          "text": [
            "[73 83 71 86 73 52 67 61 87 97 74 84 55 75]\n"
          ]
        }
      ]
    },
    {
      "cell_type": "code",
      "source": [
        "#Find all numbers greater than 50 and even\n",
        "print(a[(a>50) & (a%2==0)])"
      ],
      "metadata": {
        "colab": {
          "base_uri": "https://localhost:8080/"
        },
        "id": "Hhx7Y2OJDfwH",
        "outputId": "555d1555-5134-4918-f228-f3a8a8b41f9b"
      },
      "execution_count": 70,
      "outputs": [
        {
          "output_type": "stream",
          "name": "stdout",
          "text": [
            "[86 52 74 84]\n"
          ]
        }
      ]
    },
    {
      "cell_type": "code",
      "source": [
        "#Find all numbers not  divisible by 7\n",
        "print(a[~(a%7==0)])"
      ],
      "metadata": {
        "colab": {
          "base_uri": "https://localhost:8080/"
        },
        "id": "GiiLtBioEDto",
        "outputId": "881d8a18-2ea4-44a3-9d90-76a4ebd099b8"
      },
      "execution_count": 71,
      "outputs": [
        {
          "output_type": "stream",
          "name": "stdout",
          "text": [
            "[73 83 38 71 86 40 73 52 67 10 61 44 17 87 97 34 74  8 32 20 55 75]\n"
          ]
        }
      ]
    },
    {
      "cell_type": "markdown",
      "source": [
        "# **Broadcasting**\n",
        "\n",
        "The term broadcasting describes how NumPy treats arrays with different shapes during arithmetic operations\n",
        "\n"
      ],
      "metadata": {
        "id": "xMYX4y_xHBOK"
      }
    },
    {
      "cell_type": "code",
      "source": [
        "#same size\n",
        "a=np.arange(12).reshape(3,4)\n",
        "b=np.arange(12,24).reshape(3,4)\n",
        "print(a+b)"
      ],
      "metadata": {
        "colab": {
          "base_uri": "https://localhost:8080/"
        },
        "id": "NML58fAYFARJ",
        "outputId": "d328d328-05d4-4e31-ffff-40405e1710b1"
      },
      "execution_count": 72,
      "outputs": [
        {
          "output_type": "stream",
          "name": "stdout",
          "text": [
            "[[12 14 16 18]\n",
            " [20 22 24 26]\n",
            " [28 30 32 34]]\n"
          ]
        }
      ]
    },
    {
      "cell_type": "code",
      "source": [
        "#diff. size\n",
        "a=np.arange(12).reshape(3,4)\n",
        "b=np.arange(12,24).reshape(4,3)\n",
        "# print(a+b)\n",
        "#"
      ],
      "metadata": {
        "id": "YOPakBsrJ6uC"
      },
      "execution_count": 73,
      "outputs": []
    },
    {
      "cell_type": "markdown",
      "source": [
        "***Broadcasting rules***\n",
        "\n",
        "1.**Make two arrays have the same no.of dimensions**\n",
        "\n",
        "         .If the numbers of dimensions of two arrays are different,add new dimensions with size 1 to head of the array with smaller dimensions\n",
        "\n",
        "         eg:(3,2) and (3,)---->(3,2) and (1,3)\n",
        "\n",
        "         eg2:(3,3,3) and (3,)---->(3,3,3) and (1,1,3)\n",
        "\n",
        "2.**Make each dimension of the two arrays the same size**\n",
        "\n",
        "    .If the size of each dimesnion of the two arrays do not match,dimensions with size 1 are strectched to match other array\n",
        "\n",
        "    >If there is a dimesnion whose size is not 1 in either of two arrays,it cannot be broadcaseted and error is raised\n",
        "\n",
        "|\n",
        "\n",
        "      \n",
        "\n",
        "     "
      ],
      "metadata": {
        "id": "Li74YcEiNGaR"
      }
    },
    {
      "cell_type": "code",
      "source": [
        "a=np.arange(3).reshape(1,3)\n",
        "b=np.arange(3).reshape(3,1)\n",
        "print(a+b)\n",
        "\n",
        "#(1,3)-->(3,3) and (3,1)-->(3,3)"
      ],
      "metadata": {
        "colab": {
          "base_uri": "https://localhost:8080/"
        },
        "id": "xhH_Sdi9MqLD",
        "outputId": "8027fc5c-bb82-44ce-9646-be87dc5c26e3"
      },
      "execution_count": 74,
      "outputs": [
        {
          "output_type": "stream",
          "name": "stdout",
          "text": [
            "[[0 1 2]\n",
            " [1 2 3]\n",
            " [2 3 4]]\n"
          ]
        }
      ]
    },
    {
      "cell_type": "code",
      "source": [
        "#Eg 4:\n",
        "a=np.arange(3).reshape(1,3)\n",
        "b=np.arange(4).reshape(4,1)\n",
        "print(a+b)\n",
        "\n",
        "#(1,3)-->(4,3) and (4,1)-->(4,3)\n"
      ],
      "metadata": {
        "colab": {
          "base_uri": "https://localhost:8080/"
        },
        "id": "p1R_MlYaUnjI",
        "outputId": "7887e22d-1899-467c-b0c2-e26a60e6b297"
      },
      "execution_count": 75,
      "outputs": [
        {
          "output_type": "stream",
          "name": "stdout",
          "text": [
            "[[0 1 2]\n",
            " [1 2 3]\n",
            " [2 3 4]\n",
            " [3 4 5]]\n"
          ]
        }
      ]
    },
    {
      "cell_type": "code",
      "source": [
        "#Eg: 5\n",
        "a=np.array([1])\n",
        "#shape-->(1,1)\n",
        "b=np.arange(4).reshape(2,2)\n",
        "#shape-->(2,2)\n",
        "print(a+b)\n",
        "\n",
        "#Role of Broadcasting\n",
        "#(1,)-->(1,1)-->(2,2) + (2,2)=(2,2)"
      ],
      "metadata": {
        "colab": {
          "base_uri": "https://localhost:8080/"
        },
        "id": "zQgNZZfyV0lI",
        "outputId": "44df7450-538e-49e9-8bae-205035365fe3"
      },
      "execution_count": 76,
      "outputs": [
        {
          "output_type": "stream",
          "name": "stdout",
          "text": [
            "[[1 2]\n",
            " [3 4]]\n"
          ]
        }
      ]
    },
    {
      "cell_type": "markdown",
      "source": [
        "# Working with mathematical formulas"
      ],
      "metadata": {
        "id": "jWgUmwMGpEy0"
      }
    },
    {
      "cell_type": "code",
      "source": [
        "#sigmoid\n",
        "def sigmoid(arr):\n",
        "  return 1/(1+np.exp(-(arr)))\n",
        "a=np.arange(12)\n",
        "print(sigmoid(a))"
      ],
      "metadata": {
        "id": "sIvVDHbYWi-W",
        "colab": {
          "base_uri": "https://localhost:8080/"
        },
        "outputId": "8fb7abed-9fce-40b4-c263-da7516cd8d7c"
      },
      "execution_count": 77,
      "outputs": [
        {
          "output_type": "stream",
          "name": "stdout",
          "text": [
            "[0.5        0.73105858 0.88079708 0.95257413 0.98201379 0.99330715\n",
            " 0.99752738 0.99908895 0.99966465 0.99987661 0.9999546  0.9999833 ]\n"
          ]
        }
      ]
    },
    {
      "cell_type": "code",
      "source": [
        "#mean squared error\n",
        "actual=np.random.randint(1,50,25)\n",
        "predicted=np.random.randint(1,50,25)\n",
        "print(actual)\n",
        "print(predicted)\n",
        "def mse(actual,predicted):\n",
        "  return np.mean((actual-predicted)**2)\n",
        "print(mse(actual,predicted))\n",
        "\n",
        "\n"
      ],
      "metadata": {
        "colab": {
          "base_uri": "https://localhost:8080/"
        },
        "id": "bw45eP8epyZV",
        "outputId": "7be26788-51c8-434f-cc3a-3a6a8c04d500"
      },
      "execution_count": 78,
      "outputs": [
        {
          "output_type": "stream",
          "name": "stdout",
          "text": [
            "[ 7 16 48 22 44 46 43 20 30 40 15 10 43  1 32 38 21 47 39 25 29  2 34 39\n",
            " 27]\n",
            "[38 10 15  6 30 25 28 39 33 45 29 30 17 27  5 11 15 12 20 10 12 17 41 37\n",
            " 48]\n",
            "394.4\n"
          ]
        }
      ]
    },
    {
      "cell_type": "markdown",
      "source": [
        "# Working with missing values"
      ],
      "metadata": {
        "id": "TxZyCDpiw3Y9"
      }
    },
    {
      "cell_type": "code",
      "source": [
        "#working with  misiing values\n",
        "a=np.array([1,2,np.nan,3,4,np.nan])\n",
        "print(a)\n",
        "print(np.isnan(a))\n",
        "print(a[np.isnan(a)])\n",
        "print(a[~np.isnan(a)])"
      ],
      "metadata": {
        "colab": {
          "base_uri": "https://localhost:8080/"
        },
        "id": "XVwSnMPQtbK3",
        "outputId": "b8b6503a-bcb3-444d-bc2d-d5e924725ab2"
      },
      "execution_count": 79,
      "outputs": [
        {
          "output_type": "stream",
          "name": "stdout",
          "text": [
            "[ 1.  2. nan  3.  4. nan]\n",
            "[False False  True False False  True]\n",
            "[nan nan]\n",
            "[1. 2. 3. 4.]\n"
          ]
        }
      ]
    },
    {
      "cell_type": "markdown",
      "source": [
        "# Plotting Graphs"
      ],
      "metadata": {
        "id": "5kfpOiwVzNQY"
      }
    },
    {
      "cell_type": "code",
      "source": [
        "#plotting a 2D plot\n",
        "#x=y(straight line passing through origin at 45degree)\n",
        "x=np.linspace(-10,10,100)\n",
        "y=x\n",
        "import matplotlib.pyplot as plt\n",
        "plt.plot(x,y)\n",
        "plt.show()"
      ],
      "metadata": {
        "colab": {
          "base_uri": "https://localhost:8080/",
          "height": 430
        },
        "id": "18P-oVpYxsCU",
        "outputId": "d495c71c-6208-494e-92b6-da4dc1ca3102"
      },
      "execution_count": 80,
      "outputs": [
        {
          "output_type": "display_data",
          "data": {
            "text/plain": [
              "<Figure size 640x480 with 1 Axes>"
            ],
            "image/png": "[encoded data removed]"
          },
          "metadata": {}
        }
      ]
    },
    {
      "cell_type": "code",
      "source": [
        "#parabola\n",
        "x=np.linspace(-10,10,100)\n",
        "y=x**2\n",
        "plt.plot(x,y)\n",
        "plt.show()"
      ],
      "metadata": {
        "colab": {
          "base_uri": "https://localhost:8080/",
          "height": 430
        },
        "id": "k4s3lm3kzzlR",
        "outputId": "0186d04a-cf89-47fc-9703-883da3bbd7c1"
      },
      "execution_count": 81,
      "outputs": [
        {
          "output_type": "display_data",
          "data": {
            "text/plain": [
              "<Figure size 640x480 with 1 Axes>"
            ],
            "image/png": "[encoded data removed]"
          },
          "metadata": {}
        }
      ]
    },
    {
      "cell_type": "code",
      "source": [
        "#sinx\n",
        "x=np.linspace(-20,20,100)\n",
        "y=np.sin(x)\n",
        "plt.plot(x,y)\n",
        "plt.show()"
      ],
      "metadata": {
        "colab": {
          "base_uri": "https://localhost:8080/",
          "height": 430
        },
        "id": "2jD8rMtO0ZCG",
        "outputId": "785486ff-3133-470a-978c-98b742bcfe3c"
      },
      "execution_count": 82,
      "outputs": [
        {
          "output_type": "display_data",
          "data": {
            "text/plain": [
              "<Figure size 640x480 with 1 Axes>"
            ],
            "image/png": "[encoded data removed]"
          },
          "metadata": {}
        }
      ]
    },
    {
      "cell_type": "markdown",
      "source": [
        "# **Numpy Tricks :)**"
      ],
      "metadata": {
        "id": "1aK72iMlffC3"
      }
    },
    {
      "cell_type": "code",
      "source": [
        "import numpy as np\n",
        "a=np.random.randint(1,100,15)\n",
        "print(a)"
      ],
      "metadata": {
        "id": "NvO1G8g61ARX",
        "colab": {
          "base_uri": "https://localhost:8080/"
        },
        "outputId": "32c0eb7d-d0bd-48c4-9b8c-d43d2496440b"
      },
      "execution_count": 83,
      "outputs": [
        {
          "output_type": "stream",
          "name": "stdout",
          "text": [
            "[53 83 83 32 44 76  9 69 56 83 50 22 46 19 74]\n"
          ]
        }
      ]
    },
    {
      "cell_type": "code",
      "source": [
        "b=np.random.randint(1,100,24).reshape(6,4)\n",
        "print(b)"
      ],
      "metadata": {
        "colab": {
          "base_uri": "https://localhost:8080/"
        },
        "id": "mRGqfw3dgUAF",
        "outputId": "2de1d4bb-6f46-4122-8867-eb0b88d02475"
      },
      "execution_count": 84,
      "outputs": [
        {
          "output_type": "stream",
          "name": "stdout",
          "text": [
            "[[28 99 91 61]\n",
            " [55 93 33 27]\n",
            " [14 82 38 30]\n",
            " [13 22 25 10]\n",
            " [22 38 83 10]\n",
            " [55 40 36 18]]\n"
          ]
        }
      ]
    },
    {
      "cell_type": "code",
      "source": [
        "#sorting arrays\n",
        "print(np.sort(a))\n",
        "\n"
      ],
      "metadata": {
        "colab": {
          "base_uri": "https://localhost:8080/"
        },
        "id": "hERW-Kc6gg6s",
        "outputId": "fbac8e31-5e6f-46c9-9ed3-ef6f61e9aaad"
      },
      "execution_count": 85,
      "outputs": [
        {
          "output_type": "stream",
          "name": "stdout",
          "text": [
            "[ 9 19 22 32 44 46 50 53 56 69 74 76 83 83 83]\n"
          ]
        }
      ]
    },
    {
      "cell_type": "code",
      "source": [
        "#for 2D\n",
        "print(np.sort(b,axis=0))\n",
        "print(np.sort(b,axis=1))"
      ],
      "metadata": {
        "colab": {
          "base_uri": "https://localhost:8080/"
        },
        "id": "ndw-V-EIgyL6",
        "outputId": "8bc833a3-7f28-49ec-eadd-31d4b440474c"
      },
      "execution_count": 86,
      "outputs": [
        {
          "output_type": "stream",
          "name": "stdout",
          "text": [
            "[[13 22 25 10]\n",
            " [14 38 33 10]\n",
            " [22 40 36 18]\n",
            " [28 82 38 27]\n",
            " [55 93 83 30]\n",
            " [55 99 91 61]]\n",
            "[[28 61 91 99]\n",
            " [27 33 55 93]\n",
            " [14 30 38 82]\n",
            " [10 13 22 25]\n",
            " [10 22 38 83]\n",
            " [18 36 40 55]]\n"
          ]
        }
      ]
    },
    {
      "cell_type": "markdown",
      "source": [
        "# np.append()\n",
        " The numpy.append() appends values along mentioned axis at the end of the array"
      ],
      "metadata": {
        "id": "FgqugNzJh5lR"
      }
    },
    {
      "cell_type": "code",
      "source": [
        "print(np.append(a,200))\n",
        "#For 2D\n",
        "print(np.append(b,np.ones((b.shape[0],1)),axis=1))"
      ],
      "metadata": {
        "colab": {
          "base_uri": "https://localhost:8080/"
        },
        "id": "-TRcnU4UhDxw",
        "outputId": "e4791c2e-cec1-404c-c0d3-6e910059e84c"
      },
      "execution_count": 87,
      "outputs": [
        {
          "output_type": "stream",
          "name": "stdout",
          "text": [
            "[ 53  83  83  32  44  76   9  69  56  83  50  22  46  19  74 200]\n",
            "[[28. 99. 91. 61.  1.]\n",
            " [55. 93. 33. 27.  1.]\n",
            " [14. 82. 38. 30.  1.]\n",
            " [13. 22. 25. 10.  1.]\n",
            " [22. 38. 83. 10.  1.]\n",
            " [55. 40. 36. 18.  1.]]\n"
          ]
        }
      ]
    },
    {
      "cell_type": "markdown",
      "source": [
        "#np.concatenate()\n",
        "\n",
        "this function concatenate a sequence of arrays along existing axis"
      ],
      "metadata": {
        "id": "EX3wejQxjwMA"
      }
    },
    {
      "cell_type": "code",
      "source": [
        "c=np.arange(12).reshape(4,3)\n",
        "d=np.arange(6,18).reshape(4,3)\n",
        "print(f\"c is :\\n{c}\")\n",
        "print(f\"d is :\\n{d}\")\n"
      ],
      "metadata": {
        "colab": {
          "base_uri": "https://localhost:8080/"
        },
        "id": "VFPfuKmdieOy",
        "outputId": "4d0301b9-5413-48d0-af73-c8d53a046f48"
      },
      "execution_count": 88,
      "outputs": [
        {
          "output_type": "stream",
          "name": "stdout",
          "text": [
            "c is :\n",
            "[[ 0  1  2]\n",
            " [ 3  4  5]\n",
            " [ 6  7  8]\n",
            " [ 9 10 11]]\n",
            "d is :\n",
            "[[ 6  7  8]\n",
            " [ 9 10 11]\n",
            " [12 13 14]\n",
            " [15 16 17]]\n"
          ]
        }
      ]
    },
    {
      "cell_type": "code",
      "source": [
        "print(np.concatenate((c,d),axis=0))"
      ],
      "metadata": {
        "colab": {
          "base_uri": "https://localhost:8080/"
        },
        "id": "wFAuxZTkkjKs",
        "outputId": "875f19b0-0d45-4088-9672-e79d61a054d3"
      },
      "execution_count": 89,
      "outputs": [
        {
          "output_type": "stream",
          "name": "stdout",
          "text": [
            "[[ 0  1  2]\n",
            " [ 3  4  5]\n",
            " [ 6  7  8]\n",
            " [ 9 10 11]\n",
            " [ 6  7  8]\n",
            " [ 9 10 11]\n",
            " [12 13 14]\n",
            " [15 16 17]]\n"
          ]
        }
      ]
    },
    {
      "cell_type": "code",
      "source": [
        "print(np.concatenate((c,d),axis=1))"
      ],
      "metadata": {
        "colab": {
          "base_uri": "https://localhost:8080/"
        },
        "id": "F6rGu3Zmkyes",
        "outputId": "381143c8-adf9-4de1-da88-0af078bdebaf"
      },
      "execution_count": 90,
      "outputs": [
        {
          "output_type": "stream",
          "name": "stdout",
          "text": [
            "[[ 0  1  2  6  7  8]\n",
            " [ 3  4  5  9 10 11]\n",
            " [ 6  7  8 12 13 14]\n",
            " [ 9 10 11 15 16 17]]\n"
          ]
        }
      ]
    },
    {
      "cell_type": "code",
      "source": [
        "print(np.concatenate((c,d,c,d),axis=1))"
      ],
      "metadata": {
        "colab": {
          "base_uri": "https://localhost:8080/"
        },
        "id": "MebegxqWk8ck",
        "outputId": "6b266376-7404-49b5-ab78-bc9846b72544"
      },
      "execution_count": 91,
      "outputs": [
        {
          "output_type": "stream",
          "name": "stdout",
          "text": [
            "[[ 0  1  2  6  7  8  0  1  2  6  7  8]\n",
            " [ 3  4  5  9 10 11  3  4  5  9 10 11]\n",
            " [ 6  7  8 12 13 14  6  7  8 12 13 14]\n",
            " [ 9 10 11 15 16 17  9 10 11 15 16 17]]\n"
          ]
        }
      ]
    },
    {
      "cell_type": "markdown",
      "source": [
        "# np.unique()\n",
        "\n",
        "This function helps to get unique values from a given array"
      ],
      "metadata": {
        "id": "a_idYtNKlnWh"
      }
    },
    {
      "cell_type": "code",
      "source": [
        "c=np.array([1,1,1,1,2,2,1,1,2,3,4,5,2,3,4,1,3,4,4,2,3,4,2,1,2,3,2,3,])\n",
        "f=np.array([[1,2,3,4,1],[1,2,3,2,3]])\n",
        "print(c)\n",
        "print(f)"
      ],
      "metadata": {
        "colab": {
          "base_uri": "https://localhost:8080/"
        },
        "id": "iyP8LNEolCKf",
        "outputId": "ab061e87-e465-481e-faa5-81948004d4bf"
      },
      "execution_count": 92,
      "outputs": [
        {
          "output_type": "stream",
          "name": "stdout",
          "text": [
            "[1 1 1 1 2 2 1 1 2 3 4 5 2 3 4 1 3 4 4 2 3 4 2 1 2 3 2 3]\n",
            "[[1 2 3 4 1]\n",
            " [1 2 3 2 3]]\n"
          ]
        }
      ]
    },
    {
      "cell_type": "code",
      "source": [
        "print(np.unique(c))"
      ],
      "metadata": {
        "colab": {
          "base_uri": "https://localhost:8080/"
        },
        "id": "TYDS9my_nWlE",
        "outputId": "8344eea1-e5de-436d-84eb-b82d12322a52"
      },
      "execution_count": 93,
      "outputs": [
        {
          "output_type": "stream",
          "name": "stdout",
          "text": [
            "[1 2 3 4 5]\n"
          ]
        }
      ]
    },
    {
      "cell_type": "code",
      "source": [
        "print(np.unique(f))"
      ],
      "metadata": {
        "colab": {
          "base_uri": "https://localhost:8080/"
        },
        "id": "UDjkpY_Cna1V",
        "outputId": "cab5edad-f1f6-4914-c97e-d9d7ed9da0ca"
      },
      "execution_count": 94,
      "outputs": [
        {
          "output_type": "stream",
          "name": "stdout",
          "text": [
            "[1 2 3 4]\n"
          ]
        }
      ]
    },
    {
      "cell_type": "markdown",
      "source": [
        "# np.expand_dims()\n",
        "\n",
        "with the help of numpy.expand_dims(),we can get the expanded dimensions of an array"
      ],
      "metadata": {
        "id": "_oWjPTGEn5Hl"
      }
    },
    {
      "cell_type": "code",
      "source": [
        "a=np.array([[1,2,3,4,5]])\n",
        "print(a)"
      ],
      "metadata": {
        "colab": {
          "base_uri": "https://localhost:8080/"
        },
        "id": "Xz6htA1knfL0",
        "outputId": "53db8e9d-e800-4e94-c4bc-9e2bc3f1492d"
      },
      "execution_count": 95,
      "outputs": [
        {
          "output_type": "stream",
          "name": "stdout",
          "text": [
            "[[1 2 3 4 5]]\n"
          ]
        }
      ]
    },
    {
      "cell_type": "code",
      "source": [
        "print(np.expand_dims(a,axis=1))"
      ],
      "metadata": {
        "colab": {
          "base_uri": "https://localhost:8080/"
        },
        "id": "tqVvT_sn6FsH",
        "outputId": "deab2d2a-0218-47ee-d5f2-581880936cee"
      },
      "execution_count": 96,
      "outputs": [
        {
          "output_type": "stream",
          "name": "stdout",
          "text": [
            "[[[1 2 3 4 5]]]\n"
          ]
        }
      ]
    },
    {
      "cell_type": "code",
      "source": [
        "print(np.expand_dims(a,axis=0))"
      ],
      "metadata": {
        "colab": {
          "base_uri": "https://localhost:8080/"
        },
        "id": "l8LZMpiU6N_E",
        "outputId": "6b1eccdc-95da-4b5f-ebe8-9355d983e626"
      },
      "execution_count": 97,
      "outputs": [
        {
          "output_type": "stream",
          "name": "stdout",
          "text": [
            "[[[1 2 3 4 5]]]\n"
          ]
        }
      ]
    },
    {
      "cell_type": "markdown",
      "source": [
        "# np.where()\n",
        "\n",
        "The numpy.where() returns the indices of elements in an input  array where the given condition is satisfied"
      ],
      "metadata": {
        "id": "phrXYGKr8v_b"
      }
    },
    {
      "cell_type": "code",
      "source": [
        "a=np.random.randint(1,100,40)\n",
        "print(a)"
      ],
      "metadata": {
        "id": "uR7-lOOk7DHU",
        "colab": {
          "base_uri": "https://localhost:8080/"
        },
        "outputId": "e5cca37c-1066-4a25-fbac-150231bad13e"
      },
      "execution_count": 98,
      "outputs": [
        {
          "output_type": "stream",
          "name": "stdout",
          "text": [
            "[30 51 66 38 67 28 12  8 52 39 37  8 85  6 84 31  6  5 48 37 49 35 83 19\n",
            " 29 16 70 40 20  4 54 73 25 38 57 30 50 33 91 40]\n"
          ]
        }
      ]
    },
    {
      "cell_type": "code",
      "source": [
        "#Find all indices with value greater than 50\n",
        "\n",
        "#or\n",
        "print(np.where(a>50))"
      ],
      "metadata": {
        "colab": {
          "base_uri": "https://localhost:8080/"
        },
        "id": "PLlSweELMiKf",
        "outputId": "82b0f551-82c9-4e94-811e-4b17eb6cfb6b"
      },
      "execution_count": 99,
      "outputs": [
        {
          "output_type": "stream",
          "name": "stdout",
          "text": [
            "(array([ 1,  2,  4,  8, 12, 14, 22, 26, 30, 31, 34, 38]),)\n"
          ]
        }
      ]
    },
    {
      "cell_type": "code",
      "source": [
        "#replace all values > 50 with zero\n",
        "print(np.where(a>50,0,a))"
      ],
      "metadata": {
        "colab": {
          "base_uri": "https://localhost:8080/"
        },
        "id": "ss-0bWqRMsHC",
        "outputId": "ca6cc28b-21ef-4121-8aa2-ad53e3105ed6"
      },
      "execution_count": 100,
      "outputs": [
        {
          "output_type": "stream",
          "name": "stdout",
          "text": [
            "[30  0  0 38  0 28 12  8  0 39 37  8  0  6  0 31  6  5 48 37 49 35  0 19\n",
            " 29 16  0 40 20  4  0  0 25 38  0 30 50 33  0 40]\n"
          ]
        }
      ]
    },
    {
      "cell_type": "code",
      "source": [
        "print(np.where(a%2==0,0,a))"
      ],
      "metadata": {
        "colab": {
          "base_uri": "https://localhost:8080/"
        },
        "id": "u6ubqrRON5kO",
        "outputId": "83457694-8085-4744-b8cd-8cc7cda369a9"
      },
      "execution_count": 101,
      "outputs": [
        {
          "output_type": "stream",
          "name": "stdout",
          "text": [
            "[ 0 51  0  0 67  0  0  0  0 39 37  0 85  0  0 31  0  5  0 37 49 35 83 19\n",
            " 29  0  0  0  0  0  0 73 25  0 57  0  0 33 91  0]\n"
          ]
        }
      ]
    },
    {
      "cell_type": "code",
      "source": [
        "print(np.where(a%2==0,1,0))"
      ],
      "metadata": {
        "colab": {
          "base_uri": "https://localhost:8080/"
        },
        "id": "Vyn05EIrOyKU",
        "outputId": "7e4b2406-18ed-4008-8bf9-ebc82e351e9c"
      },
      "execution_count": 102,
      "outputs": [
        {
          "output_type": "stream",
          "name": "stdout",
          "text": [
            "[1 0 1 1 0 1 1 1 1 0 0 1 0 1 1 0 1 0 1 0 0 0 0 0 0 1 1 1 1 1 1 0 0 1 0 1 1\n",
            " 0 0 1]\n"
          ]
        }
      ]
    },
    {
      "cell_type": "markdown",
      "source": [
        "# np.argmax()\n",
        "\n",
        "The numpy.argmax() function returns indices of the max element of the array in a particular axis"
      ],
      "metadata": {
        "id": "0bTNr-0wSILL"
      }
    },
    {
      "cell_type": "code",
      "source": [
        "a=np.random.randint(101,201,30).reshape(6,5)\n",
        "print(a)"
      ],
      "metadata": {
        "colab": {
          "base_uri": "https://localhost:8080/"
        },
        "id": "h92iAfKKQ2K1",
        "outputId": "1156d6a3-e794-48cb-daac-1074da5ca29d"
      },
      "execution_count": 103,
      "outputs": [
        {
          "output_type": "stream",
          "name": "stdout",
          "text": [
            "[[160 138 164 118 139]\n",
            " [150 124 137 183 175]\n",
            " [177 134 176 190 163]\n",
            " [181 164 128 165 132]\n",
            " [193 123 187 165 167]\n",
            " [165 193 118 180 181]]\n"
          ]
        }
      ]
    },
    {
      "cell_type": "code",
      "source": [
        "print(np.argmax(a,axis=0))"
      ],
      "metadata": {
        "colab": {
          "base_uri": "https://localhost:8080/"
        },
        "id": "XombcyWATgLi",
        "outputId": "bcf542b6-335a-4d31-bd5c-d18ec47043c0"
      },
      "execution_count": 104,
      "outputs": [
        {
          "output_type": "stream",
          "name": "stdout",
          "text": [
            "[4 5 4 2 5]\n"
          ]
        }
      ]
    },
    {
      "cell_type": "markdown",
      "source": [
        "# np.cumsum()\n",
        "\n",
        "This function returns cumulative sum of array elemenst over a given axis"
      ],
      "metadata": {
        "id": "vsQKjspCV6ru"
      }
    },
    {
      "cell_type": "code",
      "source": [
        "a=np.arange(1,41).reshape(5,8)\n",
        "print(a)"
      ],
      "metadata": {
        "colab": {
          "base_uri": "https://localhost:8080/"
        },
        "id": "zWykHKTkUHy1",
        "outputId": "1a83d7a9-b25d-424e-e511-52ef5d0c2a61"
      },
      "execution_count": 105,
      "outputs": [
        {
          "output_type": "stream",
          "name": "stdout",
          "text": [
            "[[ 1  2  3  4  5  6  7  8]\n",
            " [ 9 10 11 12 13 14 15 16]\n",
            " [17 18 19 20 21 22 23 24]\n",
            " [25 26 27 28 29 30 31 32]\n",
            " [33 34 35 36 37 38 39 40]]\n"
          ]
        }
      ]
    },
    {
      "cell_type": "code",
      "source": [
        "print(np.cumsum(a))"
      ],
      "metadata": {
        "colab": {
          "base_uri": "https://localhost:8080/"
        },
        "id": "NPZLhfgGWkfP",
        "outputId": "3a6bdb45-1f7b-4ea3-cf70-fb034a1aa60b"
      },
      "execution_count": 106,
      "outputs": [
        {
          "output_type": "stream",
          "name": "stdout",
          "text": [
            "[  1   3   6  10  15  21  28  36  45  55  66  78  91 105 120 136 153 171\n",
            " 190 210 231 253 276 300 325 351 378 406 435 465 496 528 561 595 630 666\n",
            " 703 741 780 820]\n"
          ]
        }
      ]
    },
    {
      "cell_type": "code",
      "source": [
        "b=np.array([1,2,3,4,5,6,7,8,9])\n",
        "print(np.cumsum(b))"
      ],
      "metadata": {
        "colab": {
          "base_uri": "https://localhost:8080/"
        },
        "id": "9RYv-cckW2sa",
        "outputId": "5d57585f-abb8-4132-a251-550db94cad4e"
      },
      "execution_count": 107,
      "outputs": [
        {
          "output_type": "stream",
          "name": "stdout",
          "text": [
            "[ 1  3  6 10 15 21 28 36 45]\n"
          ]
        }
      ]
    },
    {
      "cell_type": "code",
      "source": [
        "print(np.cumsum(a,axis=0))"
      ],
      "metadata": {
        "colab": {
          "base_uri": "https://localhost:8080/"
        },
        "id": "2Sujz00TXEHe",
        "outputId": "0e076bee-ef09-4ed5-f5a4-0eb569abef5d"
      },
      "execution_count": 108,
      "outputs": [
        {
          "output_type": "stream",
          "name": "stdout",
          "text": [
            "[[  1   2   3   4   5   6   7   8]\n",
            " [ 10  12  14  16  18  20  22  24]\n",
            " [ 27  30  33  36  39  42  45  48]\n",
            " [ 52  56  60  64  68  72  76  80]\n",
            " [ 85  90  95 100 105 110 115 120]]\n"
          ]
        }
      ]
    },
    {
      "cell_type": "code",
      "source": [
        "c=np.arange(1,10).reshape(3,3)\n",
        "print(np.cumsum(c,axis=0))"
      ],
      "metadata": {
        "colab": {
          "base_uri": "https://localhost:8080/"
        },
        "id": "gTLPFtLpXZVX",
        "outputId": "5338d7e5-4a94-4a0f-cf3c-d4912c6e2cc6"
      },
      "execution_count": 109,
      "outputs": [
        {
          "output_type": "stream",
          "name": "stdout",
          "text": [
            "[[ 1  2  3]\n",
            " [ 5  7  9]\n",
            " [12 15 18]]\n"
          ]
        }
      ]
    },
    {
      "cell_type": "code",
      "source": [
        "print(np.cumsum(c,axis=1))"
      ],
      "metadata": {
        "colab": {
          "base_uri": "https://localhost:8080/"
        },
        "id": "k8zfSbSaXlXl",
        "outputId": "0b7d3850-0182-4b03-b2d3-14af7fca8634"
      },
      "execution_count": 110,
      "outputs": [
        {
          "output_type": "stream",
          "name": "stdout",
          "text": [
            "[[ 1  3  6]\n",
            " [ 4  9 15]\n",
            " [ 7 15 24]]\n"
          ]
        }
      ]
    },
    {
      "cell_type": "markdown",
      "source": [
        "# np.cumprod()\n",
        "this function returns the cumulstive product of array elements along a given axis"
      ],
      "metadata": {
        "id": "n1HVDfn5f4BY"
      }
    },
    {
      "cell_type": "code",
      "source": [
        "print(np.cumprod(c,axis=0))"
      ],
      "metadata": {
        "colab": {
          "base_uri": "https://localhost:8080/"
        },
        "id": "qUQgFZeqX9_H",
        "outputId": "6135a74a-f045-4884-b59f-b59f63a4b7f8"
      },
      "execution_count": 111,
      "outputs": [
        {
          "output_type": "stream",
          "name": "stdout",
          "text": [
            "[[  1   2   3]\n",
            " [  4  10  18]\n",
            " [ 28  80 162]]\n"
          ]
        }
      ]
    },
    {
      "cell_type": "code",
      "source": [
        "print(np.cumprod(c,axis=1))"
      ],
      "metadata": {
        "colab": {
          "base_uri": "https://localhost:8080/"
        },
        "id": "vMVTp359gdIV",
        "outputId": "3fa18447-55a5-42ca-e6c7-08fff7649140"
      },
      "execution_count": 112,
      "outputs": [
        {
          "output_type": "stream",
          "name": "stdout",
          "text": [
            "[[  1   2   6]\n",
            " [  4  20 120]\n",
            " [  7  56 504]]\n"
          ]
        }
      ]
    },
    {
      "cell_type": "markdown",
      "source": [
        "# np.percentile()\n",
        "\n",
        "this function computes the nth percentile of a given data along specified axis"
      ],
      "metadata": {
        "id": "mOnTubS8kJXQ"
      }
    },
    {
      "cell_type": "code",
      "source": [
        "print(np.percentile(a,100))"
      ],
      "metadata": {
        "colab": {
          "base_uri": "https://localhost:8080/"
        },
        "id": "WQoebqhAkEw5",
        "outputId": "d63f594c-5359-4ff7-a24a-a70f96400130"
      },
      "execution_count": 113,
      "outputs": [
        {
          "output_type": "stream",
          "name": "stdout",
          "text": [
            "40.0\n"
          ]
        }
      ]
    },
    {
      "cell_type": "code",
      "source": [
        "print(np.percentile(a,50))"
      ],
      "metadata": {
        "colab": {
          "base_uri": "https://localhost:8080/"
        },
        "id": "2TQUh_ernp2g",
        "outputId": "2564a84a-45c5-449c-8783-81d4b9540eeb"
      },
      "execution_count": 114,
      "outputs": [
        {
          "output_type": "stream",
          "name": "stdout",
          "text": [
            "20.5\n"
          ]
        }
      ]
    },
    {
      "cell_type": "code",
      "source": [
        "e=np.array([12,3,2,4,5,53,21,435,46,5,67,89,99,123,12,1])\n",
        "print(np.percentile(e,50))"
      ],
      "metadata": {
        "colab": {
          "base_uri": "https://localhost:8080/"
        },
        "id": "YqBZ_k2lntgb",
        "outputId": "3f921302-4294-46e1-d862-6c1fbbe69491"
      },
      "execution_count": 115,
      "outputs": [
        {
          "output_type": "stream",
          "name": "stdout",
          "text": [
            "16.5\n"
          ]
        }
      ]
    },
    {
      "cell_type": "code",
      "source": [
        "print(np.percentile(e,100))"
      ],
      "metadata": {
        "colab": {
          "base_uri": "https://localhost:8080/"
        },
        "id": "3oCFZVm8n4dS",
        "outputId": "82a143f5-6ace-459c-8976-b3c5fdfdac67"
      },
      "execution_count": 116,
      "outputs": [
        {
          "output_type": "stream",
          "name": "stdout",
          "text": [
            "435.0\n"
          ]
        }
      ]
    },
    {
      "cell_type": "markdown",
      "source": [
        "#np.histogram()\n",
        "\n",
        "Used to represent to frequency of data distribution  in graphical form"
      ],
      "metadata": {
        "id": "x-cU9gXMocMr"
      }
    },
    {
      "cell_type": "code",
      "source": [
        "a=np.random.randint(1,100,25)\n",
        "print(a)"
      ],
      "metadata": {
        "colab": {
          "base_uri": "https://localhost:8080/"
        },
        "id": "K6vHjndin8rK",
        "outputId": "397d3abe-da10-4588-8e19-6ad8ed120379"
      },
      "execution_count": 117,
      "outputs": [
        {
          "output_type": "stream",
          "name": "stdout",
          "text": [
            "[ 3 18 80 41 37 96 64 62 95 81 49  9 33 98 32 54 20 28 27 89 78 72 62 97\n",
            " 22]\n"
          ]
        }
      ]
    },
    {
      "cell_type": "code",
      "source": [
        "print(np.histogram(a,bins=[0,10,20,30,40,50,60,70,80,90,100]))"
      ],
      "metadata": {
        "colab": {
          "base_uri": "https://localhost:8080/"
        },
        "id": "X3ZioTdmrGhh",
        "outputId": "5b61098f-7d2e-4fa7-fd5d-a0d08f24d690"
      },
      "execution_count": 118,
      "outputs": [
        {
          "output_type": "stream",
          "name": "stdout",
          "text": [
            "(array([2, 1, 4, 3, 2, 1, 3, 2, 3, 4]), array([  0,  10,  20,  30,  40,  50,  60,  70,  80,  90, 100]))\n"
          ]
        }
      ]
    },
    {
      "cell_type": "markdown",
      "source": [
        "# np.corrcoef()\n",
        "\n",
        "This function returns pearson-product-moment correlation coefficients"
      ],
      "metadata": {
        "id": "ypBoPVWLtSyx"
      }
    },
    {
      "cell_type": "code",
      "source": [
        "salary=np.array([1000,2000,3000,4000,5000])\n",
        "experience=np.array([1,2,3,4,5])\n",
        "print(np.corrcoef(salary,experience))"
      ],
      "metadata": {
        "colab": {
          "base_uri": "https://localhost:8080/"
        },
        "id": "45SNeU5PsdJz",
        "outputId": "16785c59-ca52-4394-91a1-03ceb1764403"
      },
      "execution_count": 119,
      "outputs": [
        {
          "output_type": "stream",
          "name": "stdout",
          "text": [
            "[[1. 1.]\n",
            " [1. 1.]]\n"
          ]
        }
      ]
    },
    {
      "cell_type": "markdown",
      "source": [
        "# np.isin()\n",
        "\n",
        "understand using below examples"
      ],
      "metadata": {
        "id": "rbFajGgr-uXa"
      }
    },
    {
      "cell_type": "code",
      "source": [
        "a"
      ],
      "metadata": {
        "colab": {
          "base_uri": "https://localhost:8080/"
        },
        "id": "0eRJYjCbtxRR",
        "outputId": "414d2e0b-28d6-4179-f148-2ce9f8472e73"
      },
      "execution_count": 120,
      "outputs": [
        {
          "output_type": "execute_result",
          "data": {
            "text/plain": [
              "array([ 3, 18, 80, 41, 37, 96, 64, 62, 95, 81, 49,  9, 33, 98, 32, 54, 20,\n",
              "       28, 27, 89, 78, 72, 62, 97, 22])"
            ]
          },
          "metadata": {},
          "execution_count": 120
        }
      ]
    },
    {
      "cell_type": "code",
      "source": [
        "items=[10,20,30,40,50,60,70,80,90,100]\n",
        "a[np.isin(a,items)]"
      ],
      "metadata": {
        "colab": {
          "base_uri": "https://localhost:8080/"
        },
        "id": "Kj6i-pFz_ejm",
        "outputId": "aa298595-86d9-4778-8219-c4db22be6b8f"
      },
      "execution_count": 121,
      "outputs": [
        {
          "output_type": "execute_result",
          "data": {
            "text/plain": [
              "array([80, 20])"
            ]
          },
          "metadata": {},
          "execution_count": 121
        }
      ]
    },
    {
      "cell_type": "markdown",
      "source": [
        "# np.put()\n",
        "\n",
        "This functions is used to change multiple items at a time in an array.Usally goes on a flattened array"
      ],
      "metadata": {
        "id": "TEOSrmocBzLK"
      }
    },
    {
      "cell_type": "code",
      "source": [
        "a"
      ],
      "metadata": {
        "colab": {
          "base_uri": "https://localhost:8080/"
        },
        "id": "yBP5_fbx_1QH",
        "outputId": "d2636603-a0f3-4297-c4a0-4fe48e326d6c"
      },
      "execution_count": 122,
      "outputs": [
        {
          "output_type": "execute_result",
          "data": {
            "text/plain": [
              "array([ 3, 18, 80, 41, 37, 96, 64, 62, 95, 81, 49,  9, 33, 98, 32, 54, 20,\n",
              "       28, 27, 89, 78, 72, 62, 97, 22])"
            ]
          },
          "metadata": {},
          "execution_count": 122
        }
      ]
    },
    {
      "cell_type": "code",
      "source": [
        "np.put(a,[35,32],[30,143],[52,0])"
      ],
      "metadata": {
        "colab": {
          "base_uri": "https://localhost:8080/",
          "height": 297
        },
        "id": "5qVDC6uIB_33",
        "outputId": "5d946345-e1f2-41e4-b138-988b6a6589ea"
      },
      "execution_count": 123,
      "outputs": [
        {
          "output_type": "error",
          "ename": "TypeError",
          "evalue": "clipmode not understood",
          "traceback": [
            "\u001b[0;31m---------------------------------------------------------------------------\u001b[0m",
            "\u001b[0;31mTypeError\u001b[0m                                 Traceback (most recent call last)",
            "\u001b[0;32m<ipython-input-123-ac27a5429cc5>\u001b[0m in \u001b[0;36m<cell line: 1>\u001b[0;34m()\u001b[0m\n\u001b[0;32m----> 1\u001b[0;31m \u001b[0mnp\u001b[0m\u001b[0;34m.\u001b[0m\u001b[0mput\u001b[0m\u001b[0;34m(\u001b[0m\u001b[0ma\u001b[0m\u001b[0;34m,\u001b[0m\u001b[0;34m[\u001b[0m\u001b[0;36m35\u001b[0m\u001b[0;34m,\u001b[0m\u001b[0;36m32\u001b[0m\u001b[0;34m]\u001b[0m\u001b[0;34m,\u001b[0m\u001b[0;34m[\u001b[0m\u001b[0;36m30\u001b[0m\u001b[0;34m,\u001b[0m\u001b[0;36m143\u001b[0m\u001b[0;34m]\u001b[0m\u001b[0;34m,\u001b[0m\u001b[0;34m[\u001b[0m\u001b[0;36m52\u001b[0m\u001b[0;34m,\u001b[0m\u001b[0;36m0\u001b[0m\u001b[0;34m]\u001b[0m\u001b[0;34m)\u001b[0m\u001b[0;34m\u001b[0m\u001b[0;34m\u001b[0m\u001b[0m\n\u001b[0m",
            "\u001b[0;32m/usr/local/lib/python3.10/dist-packages/numpy/core/fromnumeric.py\u001b[0m in \u001b[0;36mput\u001b[0;34m(a, ind, v, mode)\u001b[0m\n\u001b[1;32m    528\u001b[0m                         \"not {name}\".format(name=type(a).__name__)) from e\n\u001b[1;32m    529\u001b[0m \u001b[0;34m\u001b[0m\u001b[0m\n\u001b[0;32m--> 530\u001b[0;31m     \u001b[0;32mreturn\u001b[0m \u001b[0mput\u001b[0m\u001b[0;34m(\u001b[0m\u001b[0mind\u001b[0m\u001b[0;34m,\u001b[0m \u001b[0mv\u001b[0m\u001b[0;34m,\u001b[0m \u001b[0mmode\u001b[0m\u001b[0;34m=\u001b[0m\u001b[0mmode\u001b[0m\u001b[0;34m)\u001b[0m\u001b[0;34m\u001b[0m\u001b[0;34m\u001b[0m\u001b[0m\n\u001b[0m\u001b[1;32m    531\u001b[0m \u001b[0;34m\u001b[0m\u001b[0m\n\u001b[1;32m    532\u001b[0m \u001b[0;34m\u001b[0m\u001b[0m\n",
            "\u001b[0;31mTypeError\u001b[0m: clipmode not understood"
          ]
        }
      ]
    },
    {
      "cell_type": "markdown",
      "source": [
        "# np.delete()\n",
        "\n",
        "The numpy.delete() function returns a new array with deletion of sub-arrays along with mentioned axis"
      ],
      "metadata": {
        "id": "Qpf2RgeUCYeV"
      }
    },
    {
      "cell_type": "code",
      "source": [
        "print(np.delete(a,0))"
      ],
      "metadata": {
        "colab": {
          "base_uri": "https://localhost:8080/"
        },
        "id": "Pcxp6mGwCKO7",
        "outputId": "fc3c8d7b-de52-41e5-c23d-1ac2f443c6ca"
      },
      "execution_count": 124,
      "outputs": [
        {
          "output_type": "stream",
          "name": "stdout",
          "text": [
            "[18 80 41 37 96 64 62 95 81 49  9 33 98 32 54 20 28 27 89 78 72 62 97 22]\n"
          ]
        }
      ]
    },
    {
      "cell_type": "code",
      "source": [
        "e=np.array([1,2,3,4,4,5,6,7,8,9,110,11])\n",
        "print(np.delete(e,[0,1,2]))"
      ],
      "metadata": {
        "colab": {
          "base_uri": "https://localhost:8080/"
        },
        "id": "0mxI_lKsHGXf",
        "outputId": "5a366f1a-1ce9-4db2-b305-8687461a5b25"
      },
      "execution_count": 125,
      "outputs": [
        {
          "output_type": "stream",
          "name": "stdout",
          "text": [
            "[  4   4   5   6   7   8   9 110  11]\n"
          ]
        }
      ]
    },
    {
      "cell_type": "markdown",
      "source": [
        "# **Set functions**\n",
        "\n",
        "**.**np.union1d\n",
        "np.intersect\n"
      ],
      "metadata": {
        "id": "S_wHdvYmIp3Y"
      }
    },
    {
      "cell_type": "code",
      "source": [
        "a=np.random.randint(1,100,20)\n",
        "print(a)"
      ],
      "metadata": {
        "colab": {
          "base_uri": "https://localhost:8080/"
        },
        "id": "-ISMXJm0HVq9",
        "outputId": "df3a7bc5-88dc-4751-c0a5-eaf40ab7a70c"
      },
      "execution_count": 126,
      "outputs": [
        {
          "output_type": "stream",
          "name": "stdout",
          "text": [
            "[47 97 47  1 34 57 35 61 31 55 42 37 85  6 61 30 90 32 77 33]\n"
          ]
        }
      ]
    },
    {
      "cell_type": "markdown",
      "source": [
        "# np.clip()\n",
        "The np.clip() is used to clip(limit) the values in an array"
      ],
      "metadata": {
        "id": "COVO1YlsLKsO"
      }
    },
    {
      "cell_type": "code",
      "source": [
        "print(np.clip(a,a_min=23,a_max=59))"
      ],
      "metadata": {
        "colab": {
          "base_uri": "https://localhost:8080/"
        },
        "id": "coztAg8-LHqd",
        "outputId": "6c258c3c-b2fb-4fd9-e549-ded282aee8e1"
      },
      "execution_count": 127,
      "outputs": [
        {
          "output_type": "stream",
          "name": "stdout",
          "text": [
            "[47 59 47 23 34 57 35 59 31 55 42 37 59 23 59 30 59 32 59 33]\n"
          ]
        }
      ]
    },
    {
      "cell_type": "code",
      "source": [],
      "metadata": {
        "id": "6P6WsU9aLv5w"
      },
      "execution_count": null,
      "outputs": []
    }
  ]
}