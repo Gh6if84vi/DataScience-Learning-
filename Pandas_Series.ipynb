{
  "nbformat": 4,
  "nbformat_minor": 0,
  "metadata": {
    "colab": {
      "provenance": [],
      "authorship_tag": "ABX9TyOrsjsVhZlcAMmCGnyv/i11",
      "include_colab_link": true
    },
    "kernelspec": {
      "name": "python3",
      "display_name": "Python 3"
    },
    "language_info": {
      "name": "python"
    }
  },
  "cells": [
    {
      "cell_type": "markdown",
      "metadata": {
        "id": "view-in-github",
        "colab_type": "text"
      },
      "source": [
        "<a href=\"https://colab.research.google.com/github/Gh6if84vi/DataScience-Learning-/blob/main/Pandas_Series.ipynb\" target=\"_parent\"><img src=\"https://colab.research.google.com/assets/colab-badge.svg\" alt=\"Open In Colab\"/></a>"
      ]
    },
    {
      "cell_type": "markdown",
      "source": [
        "# What is Pandas\n",
        "\n",
        "Pandas is a fast,powerful,flexible and easy to use open source data anaysis and manipulation tool,built on top of python programming languages"
      ],
      "metadata": {
        "id": "Ud4X8AHq9m0s"
      }
    },
    {
      "cell_type": "markdown",
      "source": [
        "### Usually objects of Pandas are Series,DataFrame etc.Series and DataFrame are mainly used........"
      ],
      "metadata": {
        "id": "oG75INptGC_9"
      }
    },
    {
      "cell_type": "markdown",
      "source": [
        "# Pandas Series\n",
        "A Pandas series is like a column in a table.It is like a 1-D array holding data of any type"
      ],
      "metadata": {
        "id": "r9ZzkpRoFY13"
      }
    },
    {
      "cell_type": "code",
      "execution_count": 1,
      "metadata": {
        "id": "tYSYUQLi9iaC"
      },
      "outputs": [],
      "source": [
        "import numpy as np\n",
        "import pandas as pd\n",
        "\n"
      ]
    },
    {
      "cell_type": "markdown",
      "source": [
        "Lets see various ways of creating series...."
      ],
      "metadata": {
        "id": "S4684jXFHUmr"
      }
    },
    {
      "cell_type": "code",
      "source": [
        "#Using String\n",
        "country=[\"India\",\"Pakistan\",\"USA\",\"China\",\"Nepal\"]\n",
        "pd.Series(country)"
      ],
      "metadata": {
        "colab": {
          "base_uri": "https://localhost:8080/",
          "height": 241
        },
        "id": "f82eCVz2GW4t",
        "outputId": "dadbe4f3-24c7-447f-caca-e45390d82a76"
      },
      "execution_count": 2,
      "outputs": [
        {
          "output_type": "execute_result",
          "data": {
            "text/plain": [
              "0       India\n",
              "1    Pakistan\n",
              "2         USA\n",
              "3       China\n",
              "4       Nepal\n",
              "dtype: object"
            ],
            "text/html": [
              "<div>\n",
              "<style scoped>\n",
              "    .dataframe tbody tr th:only-of-type {\n",
              "        vertical-align: middle;\n",
              "    }\n",
              "\n",
              "    .dataframe tbody tr th {\n",
              "        vertical-align: top;\n",
              "    }\n",
              "\n",
              "    .dataframe thead th {\n",
              "        text-align: right;\n",
              "    }\n",
              "</style>\n",
              "<table border=\"1\" class=\"dataframe\">\n",
              "  <thead>\n",
              "    <tr style=\"text-align: right;\">\n",
              "      <th></th>\n",
              "      <th>0</th>\n",
              "    </tr>\n",
              "  </thead>\n",
              "  <tbody>\n",
              "    <tr>\n",
              "      <th>0</th>\n",
              "      <td>India</td>\n",
              "    </tr>\n",
              "    <tr>\n",
              "      <th>1</th>\n",
              "      <td>Pakistan</td>\n",
              "    </tr>\n",
              "    <tr>\n",
              "      <th>2</th>\n",
              "      <td>USA</td>\n",
              "    </tr>\n",
              "    <tr>\n",
              "      <th>3</th>\n",
              "      <td>China</td>\n",
              "    </tr>\n",
              "    <tr>\n",
              "      <th>4</th>\n",
              "      <td>Nepal</td>\n",
              "    </tr>\n",
              "  </tbody>\n",
              "</table>\n",
              "</div><br><label><b>dtype:</b> object</label>"
            ]
          },
          "metadata": {},
          "execution_count": 2
        }
      ]
    },
    {
      "cell_type": "code",
      "source": [
        "#integers\n",
        "score=[31,25,56,78,86]\n",
        "pd.Series(score,dtype=np.int32)"
      ],
      "metadata": {
        "colab": {
          "base_uri": "https://localhost:8080/",
          "height": 241
        },
        "id": "tTbh1RwlHmkG",
        "outputId": "203dfa97-81c1-4a88-f2b8-70a6ca1cbdc5"
      },
      "execution_count": 3,
      "outputs": [
        {
          "output_type": "execute_result",
          "data": {
            "text/plain": [
              "0    31\n",
              "1    25\n",
              "2    56\n",
              "3    78\n",
              "4    86\n",
              "dtype: int32"
            ],
            "text/html": [
              "<div>\n",
              "<style scoped>\n",
              "    .dataframe tbody tr th:only-of-type {\n",
              "        vertical-align: middle;\n",
              "    }\n",
              "\n",
              "    .dataframe tbody tr th {\n",
              "        vertical-align: top;\n",
              "    }\n",
              "\n",
              "    .dataframe thead th {\n",
              "        text-align: right;\n",
              "    }\n",
              "</style>\n",
              "<table border=\"1\" class=\"dataframe\">\n",
              "  <thead>\n",
              "    <tr style=\"text-align: right;\">\n",
              "      <th></th>\n",
              "      <th>0</th>\n",
              "    </tr>\n",
              "  </thead>\n",
              "  <tbody>\n",
              "    <tr>\n",
              "      <th>0</th>\n",
              "      <td>31</td>\n",
              "    </tr>\n",
              "    <tr>\n",
              "      <th>1</th>\n",
              "      <td>25</td>\n",
              "    </tr>\n",
              "    <tr>\n",
              "      <th>2</th>\n",
              "      <td>56</td>\n",
              "    </tr>\n",
              "    <tr>\n",
              "      <th>3</th>\n",
              "      <td>78</td>\n",
              "    </tr>\n",
              "    <tr>\n",
              "      <th>4</th>\n",
              "      <td>86</td>\n",
              "    </tr>\n",
              "  </tbody>\n",
              "</table>\n",
              "</div><br><label><b>dtype:</b> int32</label>"
            ]
          },
          "metadata": {},
          "execution_count": 3
        }
      ]
    },
    {
      "cell_type": "code",
      "source": [
        "#custom index\n",
        "marks=[67,57,89,99]\n",
        "subjects=[\"Maths\",\"Physics\",\"Chemistry\",\"Biology\"]\n",
        "pd.Series(marks,index=subjects)"
      ],
      "metadata": {
        "colab": {
          "base_uri": "https://localhost:8080/",
          "height": 209
        },
        "id": "E9Asp_msI4dX",
        "outputId": "b6b10046-c3d9-434d-bcca-ce9c4ab107b2"
      },
      "execution_count": 4,
      "outputs": [
        {
          "output_type": "execute_result",
          "data": {
            "text/plain": [
              "Maths        67\n",
              "Physics      57\n",
              "Chemistry    89\n",
              "Biology      99\n",
              "dtype: int64"
            ],
            "text/html": [
              "<div>\n",
              "<style scoped>\n",
              "    .dataframe tbody tr th:only-of-type {\n",
              "        vertical-align: middle;\n",
              "    }\n",
              "\n",
              "    .dataframe tbody tr th {\n",
              "        vertical-align: top;\n",
              "    }\n",
              "\n",
              "    .dataframe thead th {\n",
              "        text-align: right;\n",
              "    }\n",
              "</style>\n",
              "<table border=\"1\" class=\"dataframe\">\n",
              "  <thead>\n",
              "    <tr style=\"text-align: right;\">\n",
              "      <th></th>\n",
              "      <th>0</th>\n",
              "    </tr>\n",
              "  </thead>\n",
              "  <tbody>\n",
              "    <tr>\n",
              "      <th>Maths</th>\n",
              "      <td>67</td>\n",
              "    </tr>\n",
              "    <tr>\n",
              "      <th>Physics</th>\n",
              "      <td>57</td>\n",
              "    </tr>\n",
              "    <tr>\n",
              "      <th>Chemistry</th>\n",
              "      <td>89</td>\n",
              "    </tr>\n",
              "    <tr>\n",
              "      <th>Biology</th>\n",
              "      <td>99</td>\n",
              "    </tr>\n",
              "  </tbody>\n",
              "</table>\n",
              "</div><br><label><b>dtype:</b> int64</label>"
            ]
          },
          "metadata": {},
          "execution_count": 4
        }
      ]
    },
    {
      "cell_type": "code",
      "source": [
        "#setting a name\n",
        "pd.Series(marks,index=subjects,name=\"Akshith's ke Markks\")"
      ],
      "metadata": {
        "colab": {
          "base_uri": "https://localhost:8080/",
          "height": 209
        },
        "id": "19rKAI4-KJ2L",
        "outputId": "699bac6c-5332-4b8d-945a-3244d699e598"
      },
      "execution_count": 5,
      "outputs": [
        {
          "output_type": "execute_result",
          "data": {
            "text/plain": [
              "Maths        67\n",
              "Physics      57\n",
              "Chemistry    89\n",
              "Biology      99\n",
              "Name: Akshith's ke Markks, dtype: int64"
            ],
            "text/html": [
              "<div>\n",
              "<style scoped>\n",
              "    .dataframe tbody tr th:only-of-type {\n",
              "        vertical-align: middle;\n",
              "    }\n",
              "\n",
              "    .dataframe tbody tr th {\n",
              "        vertical-align: top;\n",
              "    }\n",
              "\n",
              "    .dataframe thead th {\n",
              "        text-align: right;\n",
              "    }\n",
              "</style>\n",
              "<table border=\"1\" class=\"dataframe\">\n",
              "  <thead>\n",
              "    <tr style=\"text-align: right;\">\n",
              "      <th></th>\n",
              "      <th>Akshith's ke Markks</th>\n",
              "    </tr>\n",
              "  </thead>\n",
              "  <tbody>\n",
              "    <tr>\n",
              "      <th>Maths</th>\n",
              "      <td>67</td>\n",
              "    </tr>\n",
              "    <tr>\n",
              "      <th>Physics</th>\n",
              "      <td>57</td>\n",
              "    </tr>\n",
              "    <tr>\n",
              "      <th>Chemistry</th>\n",
              "      <td>89</td>\n",
              "    </tr>\n",
              "    <tr>\n",
              "      <th>Biology</th>\n",
              "      <td>99</td>\n",
              "    </tr>\n",
              "  </tbody>\n",
              "</table>\n",
              "</div><br><label><b>dtype:</b> int64</label>"
            ]
          },
          "metadata": {},
          "execution_count": 5
        }
      ]
    },
    {
      "cell_type": "code",
      "source": [
        "#Series from dictionary\n",
        "marks={\n",
        "    \"maths\":57,\n",
        "    \"english\":67,\n",
        "    \"science\":78\n",
        "}\n",
        "mak=pd.Series(marks,name=\"Akshith's Marks\")\n",
        "mak"
      ],
      "metadata": {
        "colab": {
          "base_uri": "https://localhost:8080/",
          "height": 178
        },
        "id": "8Z_KfMncK0xO",
        "outputId": "082daf87-8cdb-4ded-d0be-18e3cc9c8da5"
      },
      "execution_count": 6,
      "outputs": [
        {
          "output_type": "execute_result",
          "data": {
            "text/plain": [
              "maths      57\n",
              "english    67\n",
              "science    78\n",
              "Name: Akshith's Marks, dtype: int64"
            ],
            "text/html": [
              "<div>\n",
              "<style scoped>\n",
              "    .dataframe tbody tr th:only-of-type {\n",
              "        vertical-align: middle;\n",
              "    }\n",
              "\n",
              "    .dataframe tbody tr th {\n",
              "        vertical-align: top;\n",
              "    }\n",
              "\n",
              "    .dataframe thead th {\n",
              "        text-align: right;\n",
              "    }\n",
              "</style>\n",
              "<table border=\"1\" class=\"dataframe\">\n",
              "  <thead>\n",
              "    <tr style=\"text-align: right;\">\n",
              "      <th></th>\n",
              "      <th>Akshith's Marks</th>\n",
              "    </tr>\n",
              "  </thead>\n",
              "  <tbody>\n",
              "    <tr>\n",
              "      <th>maths</th>\n",
              "      <td>57</td>\n",
              "    </tr>\n",
              "    <tr>\n",
              "      <th>english</th>\n",
              "      <td>67</td>\n",
              "    </tr>\n",
              "    <tr>\n",
              "      <th>science</th>\n",
              "      <td>78</td>\n",
              "    </tr>\n",
              "  </tbody>\n",
              "</table>\n",
              "</div><br><label><b>dtype:</b> int64</label>"
            ]
          },
          "metadata": {},
          "execution_count": 6
        }
      ]
    },
    {
      "cell_type": "markdown",
      "source": [
        "# Series attributes"
      ],
      "metadata": {
        "id": "2rCo0dgPiPj2"
      }
    },
    {
      "cell_type": "code",
      "source": [
        "#size\n",
        "mak.size"
      ],
      "metadata": {
        "id": "sF6g_459NGuP",
        "colab": {
          "base_uri": "https://localhost:8080/"
        },
        "outputId": "002ab6d6-b513-490e-d064-8583a3ac300e"
      },
      "execution_count": 7,
      "outputs": [
        {
          "output_type": "execute_result",
          "data": {
            "text/plain": [
              "3"
            ]
          },
          "metadata": {},
          "execution_count": 7
        }
      ]
    },
    {
      "cell_type": "code",
      "source": [
        "#dtype\n",
        "mak.dtype"
      ],
      "metadata": {
        "colab": {
          "base_uri": "https://localhost:8080/"
        },
        "id": "6-zsTNyqjKPZ",
        "outputId": "2414853d-a4fe-40cf-c94d-ed853c2f7238"
      },
      "execution_count": 8,
      "outputs": [
        {
          "output_type": "execute_result",
          "data": {
            "text/plain": [
              "dtype('int64')"
            ]
          },
          "metadata": {},
          "execution_count": 8
        }
      ]
    },
    {
      "cell_type": "code",
      "source": [
        "#name\n",
        "mak.name"
      ],
      "metadata": {
        "colab": {
          "base_uri": "https://localhost:8080/",
          "height": 35
        },
        "id": "zNGdmmsWj5aB",
        "outputId": "764b8447-bd61-479f-d100-e2278e104593"
      },
      "execution_count": 9,
      "outputs": [
        {
          "output_type": "execute_result",
          "data": {
            "text/plain": [
              "\"Akshith's Marks\""
            ],
            "application/vnd.google.colaboratory.intrinsic+json": {
              "type": "string"
            }
          },
          "metadata": {},
          "execution_count": 9
        }
      ]
    },
    {
      "cell_type": "code",
      "source": [
        "#is_unique\n",
        "print(mak.is_unique)\n",
        "a=pd.Series([1,2,3,4,5,1,1,2])\n",
        "print(a.is_unique)"
      ],
      "metadata": {
        "colab": {
          "base_uri": "https://localhost:8080/"
        },
        "id": "vKxT5VXSkIz9",
        "outputId": "625dc817-b149-4634-c1da-4a07f6b1530a"
      },
      "execution_count": 10,
      "outputs": [
        {
          "output_type": "stream",
          "name": "stdout",
          "text": [
            "True\n",
            "False\n"
          ]
        }
      ]
    },
    {
      "cell_type": "code",
      "source": [
        "#index\n",
        "print(mak.index)\n",
        "print(a.index)"
      ],
      "metadata": {
        "colab": {
          "base_uri": "https://localhost:8080/"
        },
        "id": "hI5ZyY_AkTsV",
        "outputId": "b211c4d3-0f51-4455-f40d-67fd72aabca6"
      },
      "execution_count": 11,
      "outputs": [
        {
          "output_type": "stream",
          "name": "stdout",
          "text": [
            "Index(['maths', 'english', 'science'], dtype='object')\n",
            "RangeIndex(start=0, stop=8, step=1)\n"
          ]
        }
      ]
    },
    {
      "cell_type": "code",
      "source": [
        "#values\n",
        "print(mak.values)"
      ],
      "metadata": {
        "colab": {
          "base_uri": "https://localhost:8080/"
        },
        "id": "pBLvu4EGlmqx",
        "outputId": "83ae3d8e-d868-414c-cf66-8de205d6d594"
      },
      "execution_count": 12,
      "outputs": [
        {
          "output_type": "stream",
          "name": "stdout",
          "text": [
            "[57 67 78]\n"
          ]
        }
      ]
    },
    {
      "cell_type": "markdown",
      "source": [
        "# Series Methods"
      ],
      "metadata": {
        "id": "eJAMBp_apd0p"
      }
    },
    {
      "cell_type": "code",
      "source": [
        "#head and tail\n",
        "print(mak.head())"
      ],
      "metadata": {
        "colab": {
          "base_uri": "https://localhost:8080/"
        },
        "id": "JgFogHIjl_le",
        "outputId": "a87394ab-011e-48c1-c2d6-435bc19590b4"
      },
      "execution_count": 13,
      "outputs": [
        {
          "output_type": "stream",
          "name": "stdout",
          "text": [
            "maths      57\n",
            "english    67\n",
            "science    78\n",
            "Name: Akshith's Marks, dtype: int64\n"
          ]
        }
      ]
    },
    {
      "cell_type": "code",
      "source": [
        "#sample\n",
        "#sample gives random five rows of series\n",
        "print(mak.sample())"
      ],
      "metadata": {
        "colab": {
          "base_uri": "https://localhost:8080/"
        },
        "id": "S5rfgt0Jppvl",
        "outputId": "3610a482-d3ed-47e5-bb8c-ecd356b86137"
      },
      "execution_count": 14,
      "outputs": [
        {
          "output_type": "stream",
          "name": "stdout",
          "text": [
            "science    78\n",
            "Name: Akshith's Marks, dtype: int64\n"
          ]
        }
      ]
    },
    {
      "cell_type": "code",
      "source": [
        "#value_counts\n",
        "print(a.value_counts)"
      ],
      "metadata": {
        "colab": {
          "base_uri": "https://localhost:8080/"
        },
        "id": "0_vhBWhtqD34",
        "outputId": "563c8980-53f6-46d5-dfd3-c9af5874c27d"
      },
      "execution_count": 15,
      "outputs": [
        {
          "output_type": "stream",
          "name": "stdout",
          "text": [
            "<bound method IndexOpsMixin.value_counts of 0    1\n",
            "1    2\n",
            "2    3\n",
            "3    4\n",
            "4    5\n",
            "5    1\n",
            "6    1\n",
            "7    2\n",
            "dtype: int64>\n"
          ]
        }
      ]
    },
    {
      "cell_type": "code",
      "source": [
        "#sort_values\n",
        "b=pd.Series([23,31,1,0,22,56,87,89,98,78,67,76,54,54,32,90])\n",
        "print(b)\n",
        "print(b.sort_values())\n",
        "print(b.sort_values(ascending=False))"
      ],
      "metadata": {
        "colab": {
          "base_uri": "https://localhost:8080/"
        },
        "id": "Ow61667e15gI",
        "outputId": "f07285a4-c538-4d4a-dc80-696a57982d06"
      },
      "execution_count": 16,
      "outputs": [
        {
          "output_type": "stream",
          "name": "stdout",
          "text": [
            "0     23\n",
            "1     31\n",
            "2      1\n",
            "3      0\n",
            "4     22\n",
            "5     56\n",
            "6     87\n",
            "7     89\n",
            "8     98\n",
            "9     78\n",
            "10    67\n",
            "11    76\n",
            "12    54\n",
            "13    54\n",
            "14    32\n",
            "15    90\n",
            "dtype: int64\n",
            "3      0\n",
            "2      1\n",
            "4     22\n",
            "0     23\n",
            "1     31\n",
            "14    32\n",
            "12    54\n",
            "13    54\n",
            "5     56\n",
            "10    67\n",
            "11    76\n",
            "9     78\n",
            "6     87\n",
            "7     89\n",
            "15    90\n",
            "8     98\n",
            "dtype: int64\n",
            "8     98\n",
            "15    90\n",
            "7     89\n",
            "6     87\n",
            "9     78\n",
            "11    76\n",
            "10    67\n",
            "5     56\n",
            "12    54\n",
            "13    54\n",
            "14    32\n",
            "1     31\n",
            "0     23\n",
            "4     22\n",
            "2      1\n",
            "3      0\n",
            "dtype: int64\n"
          ]
        }
      ]
    },
    {
      "cell_type": "markdown",
      "source": [
        "# Series Math Methods"
      ],
      "metadata": {
        "id": "tjwjwLLD-OAe"
      }
    },
    {
      "cell_type": "code",
      "source": [
        "#count\n",
        "print(b.count())"
      ],
      "metadata": {
        "colab": {
          "base_uri": "https://localhost:8080/"
        },
        "id": "SWqaQF5a2mrp",
        "outputId": "e77f7bf7-f2f1-4cd4-a874-8495e6e7b12c"
      },
      "execution_count": 17,
      "outputs": [
        {
          "output_type": "stream",
          "name": "stdout",
          "text": [
            "16\n"
          ]
        }
      ]
    },
    {
      "cell_type": "code",
      "source": [
        "#sum\n",
        "print(b.sum())"
      ],
      "metadata": {
        "colab": {
          "base_uri": "https://localhost:8080/"
        },
        "id": "dTsmihX6-li0",
        "outputId": "48ca6285-1c9e-4c76-cb87-fed8cffb7382"
      },
      "execution_count": 18,
      "outputs": [
        {
          "output_type": "stream",
          "name": "stdout",
          "text": [
            "858\n"
          ]
        }
      ]
    },
    {
      "cell_type": "code",
      "source": [
        "#product\n",
        "print(b.product())"
      ],
      "metadata": {
        "colab": {
          "base_uri": "https://localhost:8080/"
        },
        "id": "rfjgTT_u-seD",
        "outputId": "a88130e4-974b-406d-cd4c-8ce535f18378"
      },
      "execution_count": 19,
      "outputs": [
        {
          "output_type": "stream",
          "name": "stdout",
          "text": [
            "0\n"
          ]
        }
      ]
    },
    {
      "cell_type": "code",
      "source": [
        "#mean\n",
        "print(b.mean())\n",
        "#mode\n",
        "print(b.mode())\n",
        "#standard deviatin\n",
        "print(b.std())\n",
        "#variance\n",
        "print(b.var())"
      ],
      "metadata": {
        "colab": {
          "base_uri": "https://localhost:8080/"
        },
        "id": "Z7O6vPpq-3tY",
        "outputId": "1e9dbf02-9b63-47b2-ee09-c2b8fbee5279"
      },
      "execution_count": 20,
      "outputs": [
        {
          "output_type": "stream",
          "name": "stdout",
          "text": [
            "53.625\n",
            "0    54\n",
            "dtype: int64\n",
            "32.14524329767418\n",
            "1033.3166666666666\n"
          ]
        }
      ]
    },
    {
      "cell_type": "code",
      "source": [
        "#min\n",
        "print(b.min())\n",
        "#maxx\n",
        "print(b.max())\n",
        "#median\n",
        "print(b.median())"
      ],
      "metadata": {
        "colab": {
          "base_uri": "https://localhost:8080/"
        },
        "id": "ytQ94yqo_Gh5",
        "outputId": "89bc96f0-0d87-4ec7-87f2-7fd5e22af2a9"
      },
      "execution_count": 21,
      "outputs": [
        {
          "output_type": "stream",
          "name": "stdout",
          "text": [
            "0\n",
            "98\n",
            "55.0\n"
          ]
        }
      ]
    },
    {
      "cell_type": "code",
      "source": [
        "#describe\n",
        "print(b.describe())"
      ],
      "metadata": {
        "colab": {
          "base_uri": "https://localhost:8080/"
        },
        "id": "JQJh6g5I_pLk",
        "outputId": "78b1ef89-e4ae-432b-863a-fd3700d17bb3"
      },
      "execution_count": 22,
      "outputs": [
        {
          "output_type": "stream",
          "name": "stdout",
          "text": [
            "count    16.000000\n",
            "mean     53.625000\n",
            "std      32.145243\n",
            "min       0.000000\n",
            "25%      29.000000\n",
            "50%      55.000000\n",
            "75%      80.250000\n",
            "max      98.000000\n",
            "dtype: float64\n"
          ]
        }
      ]
    },
    {
      "cell_type": "markdown",
      "source": [
        "# Series Indexing"
      ],
      "metadata": {
        "id": "Yp772j3-sgD9"
      }
    },
    {
      "cell_type": "code",
      "source": [
        "#integer indexing\n",
        "x=pd.Series([12,13,14,35,56,57,68,89,90])\n",
        "print(x)\n",
        "print(x[3])"
      ],
      "metadata": {
        "id": "uz407xTH_5L8",
        "colab": {
          "base_uri": "https://localhost:8080/"
        },
        "outputId": "dff9eb5b-9ec6-4ccc-f9b2-c70c7fc3ad13"
      },
      "execution_count": 23,
      "outputs": [
        {
          "output_type": "stream",
          "name": "stdout",
          "text": [
            "0    12\n",
            "1    13\n",
            "2    14\n",
            "3    35\n",
            "4    56\n",
            "5    57\n",
            "6    68\n",
            "7    89\n",
            "8    90\n",
            "dtype: int64\n",
            "35\n"
          ]
        }
      ]
    },
    {
      "cell_type": "code",
      "source": [
        "#negaive indexing\n",
        "# print(x[-1])\n",
        "#so negative indexing wont work in pandas series"
      ],
      "metadata": {
        "id": "v6WFq5aCsr_3"
      },
      "execution_count": 24,
      "outputs": []
    },
    {
      "cell_type": "code",
      "source": [
        "data={\n",
        "    \"Maths\":67,\n",
        "    \"English\":78,\n",
        "    \"Science\":89,\n",
        "    \"Social\":90\n",
        "\n",
        "}\n",
        "l=pd.Series(data,name=\"Akshith's Marks\")\n",
        "print(l)"
      ],
      "metadata": {
        "colab": {
          "base_uri": "https://localhost:8080/"
        },
        "id": "xKCwgJrwtRtR",
        "outputId": "d4d39d50-856f-4e02-cb20-68236cfc910f"
      },
      "execution_count": 25,
      "outputs": [
        {
          "output_type": "stream",
          "name": "stdout",
          "text": [
            "Maths      67\n",
            "English    78\n",
            "Science    89\n",
            "Social     90\n",
            "Name: Akshith's Marks, dtype: int64\n"
          ]
        }
      ]
    },
    {
      "cell_type": "code",
      "source": [
        "l[-2]"
      ],
      "metadata": {
        "colab": {
          "base_uri": "https://localhost:8080/"
        },
        "id": "sPqZAdiXu_9g",
        "outputId": "184334fb-54f9-4024-8e04-adb677232951"
      },
      "execution_count": 26,
      "outputs": [
        {
          "output_type": "stream",
          "name": "stderr",
          "text": [
            "<ipython-input-26-f43c46f242d7>:1: FutureWarning: Series.__getitem__ treating keys as positions is deprecated. In a future version, integer keys will always be treated as labels (consistent with DataFrame behavior). To access a value by position, use `ser.iloc[pos]`\n",
            "  l[-2]\n"
          ]
        },
        {
          "output_type": "execute_result",
          "data": {
            "text/plain": [
              "89"
            ]
          },
          "metadata": {},
          "execution_count": 26
        }
      ]
    },
    {
      "cell_type": "markdown",
      "source": [
        "The observation is **negative indexing** wont work if series index type is integer,but works if index type is string in series data.\n",
        "\n",
        "Refer above examples for clarification....\n",
        "\n",
        "> Add blockquote\n",
        "\n"
      ],
      "metadata": {
        "id": "n2ACQh1ovTQV"
      }
    },
    {
      "cell_type": "markdown",
      "source": [
        "# Slicing"
      ],
      "metadata": {
        "id": "GAC3PKHHwIxJ"
      }
    },
    {
      "cell_type": "code",
      "source": [
        "print(x[:4])"
      ],
      "metadata": {
        "colab": {
          "base_uri": "https://localhost:8080/"
        },
        "id": "mbEpX51MvChr",
        "outputId": "7bc1355c-9cee-4e06-d74e-b10f3f4e891c"
      },
      "execution_count": 27,
      "outputs": [
        {
          "output_type": "stream",
          "name": "stdout",
          "text": [
            "0    12\n",
            "1    13\n",
            "2    14\n",
            "3    35\n",
            "dtype: int64\n"
          ]
        }
      ]
    },
    {
      "cell_type": "code",
      "source": [
        "print(x[-5:])"
      ],
      "metadata": {
        "colab": {
          "base_uri": "https://localhost:8080/"
        },
        "id": "zAMgaLy8weUc",
        "outputId": "8ce99b55-9327-4741-d5d3-55605e0c9877"
      },
      "execution_count": 28,
      "outputs": [
        {
          "output_type": "stream",
          "name": "stdout",
          "text": [
            "4    56\n",
            "5    57\n",
            "6    68\n",
            "7    89\n",
            "8    90\n",
            "dtype: int64\n"
          ]
        }
      ]
    },
    {
      "cell_type": "code",
      "source": [
        "#fancy indexing\n",
        "print(x[[1,3,4,7]])"
      ],
      "metadata": {
        "colab": {
          "base_uri": "https://localhost:8080/"
        },
        "id": "8w03FmZVwiiO",
        "outputId": "52792a8c-6289-45f7-80c7-d1112a3dcc69"
      },
      "execution_count": 29,
      "outputs": [
        {
          "output_type": "stream",
          "name": "stdout",
          "text": [
            "1    13\n",
            "3    35\n",
            "4    56\n",
            "7    89\n",
            "dtype: int64\n"
          ]
        }
      ]
    },
    {
      "cell_type": "markdown",
      "source": [
        "# Updating series..\n"
      ],
      "metadata": {
        "id": "nd4LgWSW0Ort"
      }
    },
    {
      "cell_type": "code",
      "source": [
        "x[3]=143\n",
        "print(x)"
      ],
      "metadata": {
        "colab": {
          "base_uri": "https://localhost:8080/"
        },
        "id": "M5G_SV8Cw0_b",
        "outputId": "0d747745-e473-4628-99b9-d9bf2498be53"
      },
      "execution_count": 30,
      "outputs": [
        {
          "output_type": "stream",
          "name": "stdout",
          "text": [
            "0     12\n",
            "1     13\n",
            "2     14\n",
            "3    143\n",
            "4     56\n",
            "5     57\n",
            "6     68\n",
            "7     89\n",
            "8     90\n",
            "dtype: int64\n"
          ]
        }
      ]
    },
    {
      "cell_type": "code",
      "source": [
        "#if index is not present,then it automatically gets added to the seris\n",
        "x[10]=100\n",
        "print(x)"
      ],
      "metadata": {
        "colab": {
          "base_uri": "https://localhost:8080/"
        },
        "id": "oxooEYIC0Ywk",
        "outputId": "77e8d89f-9263-4d62-bfd5-9b141dbfc994"
      },
      "execution_count": 31,
      "outputs": [
        {
          "output_type": "stream",
          "name": "stdout",
          "text": [
            "0      12\n",
            "1      13\n",
            "2      14\n",
            "3     143\n",
            "4      56\n",
            "5      57\n",
            "6      68\n",
            "7      89\n",
            "8      90\n",
            "10    100\n",
            "dtype: int64\n"
          ]
        }
      ]
    },
    {
      "cell_type": "markdown",
      "source": [
        "# Series with yPthon Functionalities.."
      ],
      "metadata": {
        "id": "yp8aLPwz1_2d"
      }
    },
    {
      "cell_type": "code",
      "source": [
        "#len/type/dir/sorted/max/min\n",
        "print(len(x))\n",
        "print(type(x))\n",
        "print(dir(x))\n",
        "print(sorted(x))\n",
        "print(min(x))\n",
        "print(max(x))\n"
      ],
      "metadata": {
        "colab": {
          "base_uri": "https://localhost:8080/"
        },
        "id": "l3843ose01H5",
        "outputId": "b67a6470-4e8d-4cb3-d053-959ec3cd8c42"
      },
      "execution_count": 32,
      "outputs": [
        {
          "output_type": "stream",
          "name": "stdout",
          "text": [
            "10\n",
            "<class 'pandas.core.series.Series'>\n",
            "['T', '_AXIS_LEN', '_AXIS_ORDERS', '_AXIS_TO_AXIS_NUMBER', '_HANDLED_TYPES', '__abs__', '__add__', '__and__', '__annotations__', '__array__', '__array_priority__', '__array_ufunc__', '__bool__', '__class__', '__column_consortium_standard__', '__contains__', '__copy__', '__deepcopy__', '__delattr__', '__delitem__', '__dict__', '__dir__', '__divmod__', '__doc__', '__eq__', '__finalize__', '__float__', '__floordiv__', '__format__', '__ge__', '__getattr__', '__getattribute__', '__getitem__', '__getstate__', '__gt__', '__hash__', '__iadd__', '__iand__', '__ifloordiv__', '__imod__', '__imul__', '__init__', '__init_subclass__', '__int__', '__invert__', '__ior__', '__ipow__', '__isub__', '__iter__', '__itruediv__', '__ixor__', '__le__', '__len__', '__lt__', '__matmul__', '__mod__', '__module__', '__mul__', '__ne__', '__neg__', '__new__', '__nonzero__', '__or__', '__pandas_priority__', '__pos__', '__pow__', '__radd__', '__rand__', '__rdivmod__', '__reduce__', '__reduce_ex__', '__repr__', '__rfloordiv__', '__rmatmul__', '__rmod__', '__rmul__', '__ror__', '__round__', '__rpow__', '__rsub__', '__rtruediv__', '__rxor__', '__setattr__', '__setitem__', '__setstate__', '__sizeof__', '__str__', '__sub__', '__subclasshook__', '__truediv__', '__weakref__', '__xor__', '_accessors', '_accum_func', '_agg_examples_doc', '_agg_see_also_doc', '_align_for_op', '_align_frame', '_align_series', '_append', '_arith_method', '_as_manager', '_attrs', '_binop', '_can_hold_na', '_check_inplace_and_allows_duplicate_labels', '_check_is_chained_assignment_possible', '_check_label_or_level_ambiguity', '_check_setitem_copy', '_clear_item_cache', '_clip_with_one_bound', '_clip_with_scalar', '_cmp_method', '_consolidate', '_consolidate_inplace', '_construct_axes_dict', '_construct_result', '_constructor', '_constructor_expanddim', '_constructor_expanddim_from_mgr', '_constructor_from_mgr', '_convert_dtypes', '_data', '_deprecate_downcast', '_dir_additions', '_dir_deletions', '_drop_axis', '_drop_labels_or_levels', '_duplicated', '_expanddim_from_mgr', '_find_valid_index', '_flags', '_flex_method', '_from_mgr', '_get_axis', '_get_axis_name', '_get_axis_number', '_get_axis_resolvers', '_get_block_manager_axis', '_get_bool_data', '_get_cacher', '_get_cleaned_column_resolvers', '_get_index_resolvers', '_get_label_or_level_values', '_get_numeric_data', '_get_rows_with_mask', '_get_value', '_get_values_tuple', '_get_with', '_getitem_slice', '_gotitem', '_hidden_attrs', '_indexed_same', '_info_axis', '_info_axis_name', '_info_axis_number', '_init_dict', '_init_mgr', '_inplace_method', '_internal_names', '_internal_names_set', '_is_cached', '_is_copy', '_is_label_or_level_reference', '_is_label_reference', '_is_level_reference', '_is_mixed_type', '_is_view', '_item_cache', '_ixs', '_logical_func', '_logical_method', '_map_values', '_maybe_update_cacher', '_memory_usage', '_metadata', '_mgr', '_min_count_stat_function', '_name', '_needs_reindex_multi', '_pad_or_backfill', '_protect_consolidate', '_reduce', '_references', '_reindex_axes', '_reindex_indexer', '_reindex_multi', '_reindex_with_indexers', '_rename', '_replace_single', '_repr_data_resource_', '_repr_latex_', '_reset_cache', '_reset_cacher', '_set_as_cached', '_set_axis', '_set_axis_name', '_set_axis_nocheck', '_set_is_copy', '_set_labels', '_set_name', '_set_value', '_set_values', '_set_with', '_set_with_engine', '_shift_with_freq', '_slice', '_stat_function', '_stat_function_ddof', '_take_with_is_copy', '_to_latex_via_styler', '_typ', '_update_inplace', '_validate_dtype', '_values', '_where', 'abs', 'add', 'add_prefix', 'add_suffix', 'agg', 'aggregate', 'align', 'all', 'any', 'apply', 'argmax', 'argmin', 'argsort', 'array', 'asfreq', 'asof', 'astype', 'at', 'at_time', 'attrs', 'autocorr', 'axes', 'backfill', 'between', 'between_time', 'bfill', 'bool', 'clip', 'combine', 'combine_first', 'compare', 'convert_dtypes', 'copy', 'corr', 'count', 'cov', 'cummax', 'cummin', 'cumprod', 'cumsum', 'describe', 'diff', 'div', 'divide', 'divmod', 'dot', 'drop', 'drop_duplicates', 'droplevel', 'dropna', 'dtype', 'dtypes', 'duplicated', 'empty', 'eq', 'equals', 'ewm', 'expanding', 'explode', 'factorize', 'ffill', 'fillna', 'filter', 'first', 'first_valid_index', 'flags', 'floordiv', 'ge', 'get', 'groupby', 'gt', 'hasnans', 'head', 'hist', 'iat', 'idxmax', 'idxmin', 'iloc', 'index', 'infer_objects', 'info', 'interpolate', 'is_monotonic_decreasing', 'is_monotonic_increasing', 'is_unique', 'isin', 'isna', 'isnull', 'item', 'items', 'keys', 'kurt', 'kurtosis', 'last', 'last_valid_index', 'le', 'loc', 'lt', 'map', 'mask', 'max', 'mean', 'median', 'memory_usage', 'min', 'mod', 'mode', 'mul', 'multiply', 'name', 'nbytes', 'ndim', 'ne', 'nlargest', 'notna', 'notnull', 'nsmallest', 'nunique', 'pad', 'pct_change', 'pipe', 'plot', 'pop', 'pow', 'prod', 'product', 'quantile', 'radd', 'rank', 'ravel', 'rdiv', 'rdivmod', 'reindex', 'reindex_like', 'rename', 'rename_axis', 'reorder_levels', 'repeat', 'replace', 'resample', 'reset_index', 'rfloordiv', 'rmod', 'rmul', 'rolling', 'round', 'rpow', 'rsub', 'rtruediv', 'sample', 'searchsorted', 'sem', 'set_axis', 'set_flags', 'shape', 'shift', 'size', 'skew', 'sort_index', 'sort_values', 'squeeze', 'std', 'sub', 'subtract', 'sum', 'swapaxes', 'swaplevel', 'tail', 'take', 'to_clipboard', 'to_csv', 'to_dict', 'to_excel', 'to_frame', 'to_hdf', 'to_json', 'to_latex', 'to_list', 'to_markdown', 'to_numpy', 'to_period', 'to_pickle', 'to_sql', 'to_string', 'to_timestamp', 'to_xarray', 'transform', 'transpose', 'truediv', 'truncate', 'tz_convert', 'tz_localize', 'unique', 'unstack', 'update', 'value_counts', 'values', 'var', 'view', 'where', 'xs']\n",
            "[12, 13, 14, 56, 57, 68, 89, 90, 100, 143]\n",
            "12\n",
            "143\n"
          ]
        }
      ]
    },
    {
      "cell_type": "code",
      "source": [
        "#type conversion\n",
        "x[11]=143\n",
        "print(x)\n",
        "print(list(x))\n",
        "print(dict(x))\n",
        "print(tuple(x))\n",
        "print(set(x))"
      ],
      "metadata": {
        "colab": {
          "base_uri": "https://localhost:8080/"
        },
        "id": "3EIGt2K83XS4",
        "outputId": "db830a38-49dd-46dd-897e-bfaea35d1d91"
      },
      "execution_count": 33,
      "outputs": [
        {
          "output_type": "stream",
          "name": "stdout",
          "text": [
            "0      12\n",
            "1      13\n",
            "2      14\n",
            "3     143\n",
            "4      56\n",
            "5      57\n",
            "6      68\n",
            "7      89\n",
            "8      90\n",
            "10    100\n",
            "11    143\n",
            "dtype: int64\n",
            "[12, 13, 14, 143, 56, 57, 68, 89, 90, 100, 143]\n",
            "{0: 12, 1: 13, 2: 14, 3: 143, 4: 56, 5: 57, 6: 68, 7: 89, 8: 90, 10: 100, 11: 143}\n",
            "(12, 13, 14, 143, 56, 57, 68, 89, 90, 100, 143)\n",
            "{89, 68, 100, 12, 13, 14, 143, 56, 57, 90}\n"
          ]
        }
      ]
    },
    {
      "cell_type": "code",
      "source": [
        "#membership operator\n",
        "100 in x\n",
        "#so the thing is,in pandas series unlike normal python lists,membership operator works on index but not on values"
      ],
      "metadata": {
        "colab": {
          "base_uri": "https://localhost:8080/"
        },
        "id": "1yPJWUt95dr4",
        "outputId": "109d5371-aa5c-46b0-abba-98dbdee8cd6e"
      },
      "execution_count": 34,
      "outputs": [
        {
          "output_type": "execute_result",
          "data": {
            "text/plain": [
              "False"
            ]
          },
          "metadata": {},
          "execution_count": 34
        }
      ]
    },
    {
      "cell_type": "code",
      "source": [
        "#loopinga\n",
        "y=pd.Series([1,2,3,4,4,5,6,7,8,9,10,11,12,3,4,45])\n",
        "for i in y:\n",
        "  print(i)\n",
        "#Loops in pandas series work on values,but not on index as normal python functionality"
      ],
      "metadata": {
        "colab": {
          "base_uri": "https://localhost:8080/"
        },
        "id": "zhOVpZox7N4J",
        "outputId": "3585a3ec-22d8-4f8f-f007-f9dc564597b1"
      },
      "execution_count": 35,
      "outputs": [
        {
          "output_type": "stream",
          "name": "stdout",
          "text": [
            "1\n",
            "2\n",
            "3\n",
            "4\n",
            "4\n",
            "5\n",
            "6\n",
            "7\n",
            "8\n",
            "9\n",
            "10\n",
            "11\n",
            "12\n",
            "3\n",
            "4\n",
            "45\n"
          ]
        }
      ]
    },
    {
      "cell_type": "code",
      "source": [
        "#Arithmetic operators\n",
        "#Boolean operators"
      ],
      "metadata": {
        "id": "48ZWP2j874d9"
      },
      "execution_count": 36,
      "outputs": []
    },
    {
      "cell_type": "markdown",
      "source": [
        "# Boolean Indexing on Series"
      ],
      "metadata": {
        "id": "xohEQoFJOwel"
      }
    },
    {
      "cell_type": "code",
      "source": [
        "#Find no.of 5'sappeared in y\n",
        "print(y[y==5].size)"
      ],
      "metadata": {
        "colab": {
          "base_uri": "https://localhost:8080/"
        },
        "id": "OboUQQ2DOvAh",
        "outputId": "ca05ede4-c52c-442b-c169-1a0f8ddf2fb9"
      },
      "execution_count": 37,
      "outputs": [
        {
          "output_type": "stream",
          "name": "stdout",
          "text": [
            "1\n"
          ]
        }
      ]
    },
    {
      "cell_type": "code",
      "source": [
        "#find even in y\n",
        "print(y[y%2==0].size)"
      ],
      "metadata": {
        "colab": {
          "base_uri": "https://localhost:8080/"
        },
        "id": "vr0-qJRhPRew",
        "outputId": "db4c1c0e-bedc-4654-97ae-a586ae5abb59"
      },
      "execution_count": 38,
      "outputs": [
        {
          "output_type": "stream",
          "name": "stdout",
          "text": [
            "8\n"
          ]
        }
      ]
    },
    {
      "cell_type": "markdown",
      "source": [
        "# Plotting Graphs on Series"
      ],
      "metadata": {
        "id": "MI5TYNUwVss-"
      }
    },
    {
      "cell_type": "code",
      "source": [
        "y.plot()\n"
      ],
      "metadata": {
        "colab": {
          "base_uri": "https://localhost:8080/",
          "height": 447
        },
        "id": "dVuqfgPkUj2Z",
        "outputId": "9b99d0ff-1f27-4be5-abdc-74a797d32687"
      },
      "execution_count": 39,
      "outputs": [
        {
          "output_type": "execute_result",
          "data": {
            "text/plain": [
              "<Axes: >"
            ]
          },
          "metadata": {},
          "execution_count": 39
        },
        {
          "output_type": "display_data",
          "data": {
            "text/plain": [
              "<Figure size 640x480 with 1 Axes>"
            ],
            "image/png": "[encoded data removed]"
          },
          "metadata": {}
        }
      ]
    },
    {
      "cell_type": "code",
      "source": [
        "y.value_counts().plot(kind=\"bar\")"
      ],
      "metadata": {
        "colab": {
          "base_uri": "https://localhost:8080/",
          "height": 451
        },
        "id": "hPbe70qnXQ6N",
        "outputId": "0cd29b36-b522-4d8e-ba73-0af35c561859"
      },
      "execution_count": 40,
      "outputs": [
        {
          "output_type": "execute_result",
          "data": {
            "text/plain": [
              "<Axes: >"
            ]
          },
          "metadata": {},
          "execution_count": 40
        },
        {
          "output_type": "display_data",
          "data": {
            "text/plain": [
              "<Figure size 640x480 with 1 Axes>"
            ],
            "image/png": "[encoded data removed]"
          },
          "metadata": {}
        }
      ]
    },
    {
      "cell_type": "markdown",
      "source": [
        "# **Important Series Methods....**"
      ],
      "metadata": {
        "id": "iI-zuhHtdby0"
      }
    },
    {
      "cell_type": "code",
      "source": [
        "#astype\n",
        "import sys\n",
        "sys.getsizeof(x)"
      ],
      "metadata": {
        "id": "AdFX_KK2ZaYj",
        "colab": {
          "base_uri": "https://localhost:8080/"
        },
        "outputId": "e4642604-e644-448c-86fb-353ef54f4902"
      },
      "execution_count": 43,
      "outputs": [
        {
          "output_type": "execute_result",
          "data": {
            "text/plain": [
              "492"
            ]
          },
          "metadata": {},
          "execution_count": 43
        }
      ]
    },
    {
      "cell_type": "code",
      "source": [
        "sys.getsizeof(x.astype(np.int16))"
      ],
      "metadata": {
        "colab": {
          "base_uri": "https://localhost:8080/"
        },
        "id": "e88oIumk6G-a",
        "outputId": "0dd3b1fe-dc4e-4fa3-84fe-bda068b2289b"
      },
      "execution_count": 44,
      "outputs": [
        {
          "output_type": "execute_result",
          "data": {
            "text/plain": [
              "426"
            ]
          },
          "metadata": {},
          "execution_count": 44
        }
      ]
    },
    {
      "cell_type": "code",
      "source": [
        "#between\n",
        "#To check whether values exists within a range and gives a boolean series\n",
        "x.between(7,15).size"
      ],
      "metadata": {
        "colab": {
          "base_uri": "https://localhost:8080/"
        },
        "id": "kWwxnEho6VGZ",
        "outputId": "ba06ff3d-21ba-4e78-e51e-ff03ca8aa725"
      },
      "execution_count": 46,
      "outputs": [
        {
          "output_type": "execute_result",
          "data": {
            "text/plain": [
              "11"
            ]
          },
          "metadata": {},
          "execution_count": 46
        }
      ]
    },
    {
      "cell_type": "code",
      "source": [
        "#clip\n",
        "#clip usually makes all the values in the series to only exist between that range\n",
        "z=pd.Series([12,18,23,34,43,56,65,67,76,78,87,89,98,90,1,8])\n",
        "print(z.clip(12,50))"
      ],
      "metadata": {
        "colab": {
          "base_uri": "https://localhost:8080/"
        },
        "id": "nh8GfoyX8jWu",
        "outputId": "f1cc52a1-8b5c-4c99-c120-2e825508fcb5"
      },
      "execution_count": 47,
      "outputs": [
        {
          "output_type": "stream",
          "name": "stdout",
          "text": [
            "0     12\n",
            "1     18\n",
            "2     23\n",
            "3     34\n",
            "4     43\n",
            "5     50\n",
            "6     50\n",
            "7     50\n",
            "8     50\n",
            "9     50\n",
            "10    50\n",
            "11    50\n",
            "12    50\n",
            "13    50\n",
            "14    12\n",
            "15    12\n",
            "dtype: int64\n"
          ]
        }
      ]
    },
    {
      "cell_type": "code",
      "source": [
        "#drop_duplicates\n",
        "temp=pd.Series([1,1,2,2,3,3,4,4,1,5,8,9,6,6,12,13,14,14,15,12])\n",
        "print(temp.drop_duplicates())\n"
      ],
      "metadata": {
        "colab": {
          "base_uri": "https://localhost:8080/"
        },
        "id": "BuXIC7s59cnR",
        "outputId": "9d6fc0ce-83ce-4a7c-fa61-35c2a7e57714"
      },
      "execution_count": 57,
      "outputs": [
        {
          "output_type": "stream",
          "name": "stdout",
          "text": [
            "0      1\n",
            "2      2\n",
            "4      3\n",
            "6      4\n",
            "9      5\n",
            "10     8\n",
            "11     9\n",
            "12     6\n",
            "14    12\n",
            "15    13\n",
            "16    14\n",
            "18    15\n",
            "dtype: int64\n"
          ]
        }
      ]
    },
    {
      "cell_type": "code",
      "source": [
        "#duplicated\n",
        "#to check whwteher series has duplicates or not\n",
        "print(z.duplicated().sum())\n"
      ],
      "metadata": {
        "colab": {
          "base_uri": "https://localhost:8080/"
        },
        "id": "F8bAKS6C-q2V",
        "outputId": "3b622652-591b-4025-aeb4-169a774f5b87"
      },
      "execution_count": 61,
      "outputs": [
        {
          "output_type": "stream",
          "name": "stdout",
          "text": [
            "0\n"
          ]
        }
      ]
    },
    {
      "cell_type": "code",
      "source": [
        "#isnull\n",
        "temp=pd.Series([1,2,3,np.nan,5,6,np.nan,8,np.nan,10])\n",
        "print(temp)\n",
        "print(temp.isnull().sum())"
      ],
      "metadata": {
        "colab": {
          "base_uri": "https://localhost:8080/"
        },
        "id": "OtbfoVotDPXb",
        "outputId": "d0ace77a-a64b-4aef-9517-b8b4200c4389"
      },
      "execution_count": 65,
      "outputs": [
        {
          "output_type": "stream",
          "name": "stdout",
          "text": [
            "0     1.0\n",
            "1     2.0\n",
            "2     3.0\n",
            "3     NaN\n",
            "4     5.0\n",
            "5     6.0\n",
            "6     NaN\n",
            "7     8.0\n",
            "8     NaN\n",
            "9    10.0\n",
            "dtype: float64\n",
            "3\n"
          ]
        }
      ]
    },
    {
      "cell_type": "code",
      "source": [
        "#dropna\n",
        "#to drop null values\n",
        "print(temp.dropna())"
      ],
      "metadata": {
        "colab": {
          "base_uri": "https://localhost:8080/"
        },
        "id": "EK192cmJDWzk",
        "outputId": "0e8dabbb-7313-48bd-a2dc-868035cd0b95"
      },
      "execution_count": 66,
      "outputs": [
        {
          "output_type": "stream",
          "name": "stdout",
          "text": [
            "0     1.0\n",
            "1     2.0\n",
            "2     3.0\n",
            "4     5.0\n",
            "5     6.0\n",
            "7     8.0\n",
            "9    10.0\n",
            "dtype: float64\n"
          ]
        }
      ]
    },
    {
      "cell_type": "code",
      "source": [
        "#fillna\n",
        "#to fill null values with any thing\n",
        "temp=pd.Series([1,2,3,np.nan,5,6,np.nan,8,np.nan,10])\n",
        "print(temp.fillna(0))\n",
        "print(temp.fillna(temp.mean()))\n"
      ],
      "metadata": {
        "colab": {
          "base_uri": "https://localhost:8080/"
        },
        "id": "a3nbRaVtHdBB",
        "outputId": "6e540fba-1be4-4ff7-a20f-2efaf81e1500"
      },
      "execution_count": 68,
      "outputs": [
        {
          "output_type": "stream",
          "name": "stdout",
          "text": [
            "0     1.0\n",
            "1     2.0\n",
            "2     3.0\n",
            "3     0.0\n",
            "4     5.0\n",
            "5     6.0\n",
            "6     0.0\n",
            "7     8.0\n",
            "8     0.0\n",
            "9    10.0\n",
            "dtype: float64\n",
            "0     1.0\n",
            "1     2.0\n",
            "2     3.0\n",
            "3     5.0\n",
            "4     5.0\n",
            "5     6.0\n",
            "6     5.0\n",
            "7     8.0\n",
            "8     5.0\n",
            "9    10.0\n",
            "dtype: float64\n"
          ]
        }
      ]
    },
    {
      "cell_type": "code",
      "source": [
        "#isin\n",
        "#to check multiple items atonce in series\n",
        "print(temp.isin([1,6,7]))\n"
      ],
      "metadata": {
        "colab": {
          "base_uri": "https://localhost:8080/"
        },
        "id": "mlvaP5hvH8Fh",
        "outputId": "d63ee83c-e8fe-4117-fd1b-ec66be9bc515"
      },
      "execution_count": 69,
      "outputs": [
        {
          "output_type": "stream",
          "name": "stdout",
          "text": [
            "0     True\n",
            "1    False\n",
            "2    False\n",
            "3    False\n",
            "4    False\n",
            "5     True\n",
            "6    False\n",
            "7    False\n",
            "8    False\n",
            "9    False\n",
            "dtype: bool\n"
          ]
        }
      ]
    },
    {
      "cell_type": "code",
      "source": [
        "#apply\n",
        "#This function helps in applyinh any custom logic on series\n",
        "print(temp.apply(lambda x:x**2))"
      ],
      "metadata": {
        "colab": {
          "base_uri": "https://localhost:8080/"
        },
        "id": "T2lFxTt_Iy37",
        "outputId": "e92ab543-1745-4404-88d4-dde550fc1528"
      },
      "execution_count": 70,
      "outputs": [
        {
          "output_type": "stream",
          "name": "stdout",
          "text": [
            "0      1.0\n",
            "1      4.0\n",
            "2      9.0\n",
            "3      NaN\n",
            "4     25.0\n",
            "5     36.0\n",
            "6      NaN\n",
            "7     64.0\n",
            "8      NaN\n",
            "9    100.0\n",
            "dtype: float64\n"
          ]
        }
      ]
    },
    {
      "cell_type": "code",
      "source": [
        "#copy\n"
      ],
      "metadata": {
        "id": "D_GyZaX4KE2a"
      },
      "execution_count": null,
      "outputs": []
    }
  ]
}