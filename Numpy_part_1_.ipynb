{
  "nbformat": 4,
  "nbformat_minor": 0,
  "metadata": {
    "colab": {
      "provenance": [],
      "authorship_tag": "ABX9TyORlMxC01Uj0Du2+Ke+P3Cj",
      "include_colab_link": true
    },
    "kernelspec": {
      "name": "python3",
      "display_name": "Python 3"
    },
    "language_info": {
      "name": "python"
    }
  },
  "cells": [
    {
      "cell_type": "markdown",
      "metadata": {
        "id": "view-in-github",
        "colab_type": "text"
      },
      "source": [
        "<a href=\"https://colab.research.google.com/github/Gh6if84vi/DataScience-Learning-/blob/main/Numpy_part_1_.ipynb\" target=\"_parent\"><img src=\"https://colab.research.google.com/assets/colab-badge.svg\" alt=\"Open In Colab\"/></a>"
      ]
    },
    {
      "cell_type": "code",
      "execution_count": 1,
      "metadata": {
        "colab": {
          "base_uri": "https://localhost:8080/"
        },
        "id": "zYKt1nnCBUOy",
        "outputId": "5ad58705-04cb-445c-8276-9f6ec668df97"
      },
      "outputs": [
        {
          "output_type": "execute_result",
          "data": {
            "text/plain": [
              "array([ 12,  23,   4,   5,  67,  78, 121])"
            ]
          },
          "metadata": {},
          "execution_count": 1
        }
      ],
      "source": [
        "#creating numpy arrays\n",
        "import numpy as np\n",
        "#1-D array\n",
        "a=np.array([12,23,4,5,67,78,121])\n",
        "a"
      ]
    },
    {
      "cell_type": "code",
      "source": [
        "#2D array\n",
        "b=np.array([[1,2,3,4,],[5,6,7,78]])\n",
        "print(b)"
      ],
      "metadata": {
        "colab": {
          "base_uri": "https://localhost:8080/"
        },
        "id": "FvVPcVIuBjM2",
        "outputId": "7e00cf93-45d8-48bf-e37c-85a843f5fa1d"
      },
      "execution_count": 2,
      "outputs": [
        {
          "output_type": "stream",
          "name": "stdout",
          "text": [
            "[[ 1  2  3  4]\n",
            " [ 5  6  7 78]]\n"
          ]
        }
      ]
    },
    {
      "cell_type": "code",
      "source": [
        "#3D array\n",
        "c=np.array([[[1,2,3,4],[3,4,5,6]],[[5,6,7,7],[7,8,9,9]]])\n",
        "c"
      ],
      "metadata": {
        "colab": {
          "base_uri": "https://localhost:8080/"
        },
        "id": "GYys_zCTB55Q",
        "outputId": "1770ff55-894d-444f-80d0-88ee18ee9beb"
      },
      "execution_count": 3,
      "outputs": [
        {
          "output_type": "execute_result",
          "data": {
            "text/plain": [
              "array([[[1, 2, 3, 4],\n",
              "        [3, 4, 5, 6]],\n",
              "\n",
              "       [[5, 6, 7, 7],\n",
              "        [7, 8, 9, 9]]])"
            ]
          },
          "metadata": {},
          "execution_count": 3
        }
      ]
    },
    {
      "cell_type": "code",
      "source": [
        "#Datatype of an array\n",
        "np.array([1,-2,3,4,0],dtype=bytes)\n"
      ],
      "metadata": {
        "colab": {
          "base_uri": "https://localhost:8080/"
        },
        "id": "GfcAZijwDU22",
        "outputId": "b3a4542c-79ee-473a-d728-7aaa8bfc43ac"
      },
      "execution_count": 4,
      "outputs": [
        {
          "output_type": "execute_result",
          "data": {
            "text/plain": [
              "array([b'1', b'-2', b'3', b'4', b'0'], dtype='|S2')"
            ]
          },
          "metadata": {},
          "execution_count": 4
        }
      ]
    },
    {
      "cell_type": "code",
      "source": [
        "#shape of an array\n",
        "c.shape"
      ],
      "metadata": {
        "colab": {
          "base_uri": "https://localhost:8080/"
        },
        "id": "cP0tlzEQD3gs",
        "outputId": "d5d4aa12-fb49-47b8-f08e-9bcfd09dff95"
      },
      "execution_count": 5,
      "outputs": [
        {
          "output_type": "execute_result",
          "data": {
            "text/plain": [
              "(2, 2, 4)"
            ]
          },
          "metadata": {},
          "execution_count": 5
        }
      ]
    },
    {
      "cell_type": "code",
      "source": [
        "#size of an array\n",
        "c.size"
      ],
      "metadata": {
        "colab": {
          "base_uri": "https://localhost:8080/"
        },
        "id": "8ue_zNOaG-z4",
        "outputId": "d69fb692-0009-4968-974c-f108745aa1f0"
      },
      "execution_count": 6,
      "outputs": [
        {
          "output_type": "execute_result",
          "data": {
            "text/plain": [
              "16"
            ]
          },
          "metadata": {},
          "execution_count": 6
        }
      ]
    },
    {
      "cell_type": "code",
      "source": [
        "#no.of dimensions in an array\n",
        "c.ndim"
      ],
      "metadata": {
        "colab": {
          "base_uri": "https://localhost:8080/"
        },
        "id": "2PfVdNnhHa4U",
        "outputId": "ef3cb7a0-d908-49c6-8f1c-c43384d056be"
      },
      "execution_count": 7,
      "outputs": [
        {
          "output_type": "execute_result",
          "data": {
            "text/plain": [
              "3"
            ]
          },
          "metadata": {},
          "execution_count": 7
        }
      ]
    },
    {
      "cell_type": "code",
      "source": [
        "#np.arange\n",
        "np.arange(1,11,3)"
      ],
      "metadata": {
        "colab": {
          "base_uri": "https://localhost:8080/"
        },
        "id": "zSaBZMatHohc",
        "outputId": "ad0a074a-6c38-4420-b6b1-f02483313024"
      },
      "execution_count": 8,
      "outputs": [
        {
          "output_type": "execute_result",
          "data": {
            "text/plain": [
              "array([ 1,  4,  7, 10])"
            ]
          },
          "metadata": {},
          "execution_count": 8
        }
      ]
    },
    {
      "cell_type": "code",
      "source": [
        "#reshape\n",
        "np.arange(12,32).reshape(4,5)"
      ],
      "metadata": {
        "colab": {
          "base_uri": "https://localhost:8080/"
        },
        "id": "M0ttaB12IJml",
        "outputId": "a74c02d7-d1aa-479f-f69d-ff0112ac1691"
      },
      "execution_count": 9,
      "outputs": [
        {
          "output_type": "execute_result",
          "data": {
            "text/plain": [
              "array([[12, 13, 14, 15, 16],\n",
              "       [17, 18, 19, 20, 21],\n",
              "       [22, 23, 24, 25, 26],\n",
              "       [27, 28, 29, 30, 31]])"
            ]
          },
          "metadata": {},
          "execution_count": 9
        }
      ]
    },
    {
      "cell_type": "code",
      "source": [
        "#np.ones and np.zeros\n",
        "e=np.ones((3,4))\n",
        "print(e)\n",
        "f=np.zeros((4,5))\n",
        "print(f)"
      ],
      "metadata": {
        "colab": {
          "base_uri": "https://localhost:8080/"
        },
        "id": "7PM8ndWwJDEB",
        "outputId": "b8e49bda-5af5-4c15-9ae9-c71c9992ab59"
      },
      "execution_count": 10,
      "outputs": [
        {
          "output_type": "stream",
          "name": "stdout",
          "text": [
            "[[1. 1. 1. 1.]\n",
            " [1. 1. 1. 1.]\n",
            " [1. 1. 1. 1.]]\n",
            "[[0. 0. 0. 0. 0.]\n",
            " [0. 0. 0. 0. 0.]\n",
            " [0. 0. 0. 0. 0.]\n",
            " [0. 0. 0. 0. 0.]]\n"
          ]
        }
      ]
    },
    {
      "cell_type": "code",
      "source": [
        "#np.random\n",
        "r=np.random.random((3,4))\n",
        "print(r)"
      ],
      "metadata": {
        "colab": {
          "base_uri": "https://localhost:8080/"
        },
        "id": "RzAPLMmVJ4v1",
        "outputId": "02e5efa1-3242-4269-9b27-e69084423db0"
      },
      "execution_count": 11,
      "outputs": [
        {
          "output_type": "stream",
          "name": "stdout",
          "text": [
            "[[0.09484527 0.51659428 0.24074154 0.22556793]\n",
            " [0.1930453  0.46114445 0.64190779 0.543445  ]\n",
            " [0.74324801 0.58815081 0.01415755 0.47440616]]\n"
          ]
        }
      ]
    },
    {
      "cell_type": "code",
      "source": [
        "#np.linspace\n",
        "#syntax=np.linspace(range,no.of digits)\n",
        "l=np.linspace(-10,10,10)\n",
        "l"
      ],
      "metadata": {
        "colab": {
          "base_uri": "https://localhost:8080/"
        },
        "id": "HQYNG65ZL2m9",
        "outputId": "2f30ae48-7162-4fd6-a79d-01cdd57a0b95"
      },
      "execution_count": 12,
      "outputs": [
        {
          "output_type": "execute_result",
          "data": {
            "text/plain": [
              "array([-10.        ,  -7.77777778,  -5.55555556,  -3.33333333,\n",
              "        -1.11111111,   1.11111111,   3.33333333,   5.55555556,\n",
              "         7.77777778,  10.        ])"
            ]
          },
          "metadata": {},
          "execution_count": 12
        }
      ]
    },
    {
      "cell_type": "code",
      "source": [
        "#to create an array with 5 dimensions\n",
        "arr=np.array([1,2,3,4],ndmin=5)\n",
        "arr"
      ],
      "metadata": {
        "colab": {
          "base_uri": "https://localhost:8080/"
        },
        "id": "-yM2qK8QM-8c",
        "outputId": "fa11b3a4-b49b-4c85-a528-34e969a16901"
      },
      "execution_count": 13,
      "outputs": [
        {
          "output_type": "execute_result",
          "data": {
            "text/plain": [
              "array([[[[[1, 2, 3, 4]]]]])"
            ]
          },
          "metadata": {},
          "execution_count": 13
        }
      ]
    },
    {
      "cell_type": "code",
      "source": [
        "#np.identity\n",
        "np.identity(5,dtype=int)"
      ],
      "metadata": {
        "colab": {
          "base_uri": "https://localhost:8080/"
        },
        "id": "Fpue6YKCN18E",
        "outputId": "4e47f000-9c4b-400a-a0a1-85969dcb2716"
      },
      "execution_count": 14,
      "outputs": [
        {
          "output_type": "execute_result",
          "data": {
            "text/plain": [
              "array([[1, 0, 0, 0, 0],\n",
              "       [0, 1, 0, 0, 0],\n",
              "       [0, 0, 1, 0, 0],\n",
              "       [0, 0, 0, 1, 0],\n",
              "       [0, 0, 0, 0, 1]])"
            ]
          },
          "metadata": {},
          "execution_count": 14
        }
      ]
    },
    {
      "cell_type": "markdown",
      "source": [
        "#Array Attributes"
      ],
      "metadata": {
        "id": "krCxN-9zdD46"
      }
    },
    {
      "cell_type": "code",
      "source": [
        "#np.ndim\n",
        "#np.shape\n",
        "#np.size\n"
      ],
      "metadata": {
        "id": "CBSvpndIQQqa"
      },
      "execution_count": 15,
      "outputs": []
    },
    {
      "cell_type": "code",
      "source": [
        "#np.itemsize\n",
        "item=np.array([1,2,3,4,5,5],dtype=int)\n",
        "print(item.itemsize)"
      ],
      "metadata": {
        "colab": {
          "base_uri": "https://localhost:8080/"
        },
        "id": "mtIpRvmReB5_",
        "outputId": "c314a633-483e-4832-edbb-82c389c0fe20"
      },
      "execution_count": 16,
      "outputs": [
        {
          "output_type": "stream",
          "name": "stdout",
          "text": [
            "8\n"
          ]
        }
      ]
    },
    {
      "cell_type": "markdown",
      "source": [
        "# **Changing DataType**"
      ],
      "metadata": {
        "id": "nZ6Ygp5xemJI"
      }
    },
    {
      "cell_type": "code",
      "source": [
        "age=np.array([23,24,21,34,45,67])\n",
        "age.dtype\n",
        "age.astype(np.int32)"
      ],
      "metadata": {
        "colab": {
          "base_uri": "https://localhost:8080/"
        },
        "id": "YYF0adB_eMdY",
        "outputId": "fc0d89c6-2b81-4b53-9e5f-41107e2d5d03"
      },
      "execution_count": 17,
      "outputs": [
        {
          "output_type": "execute_result",
          "data": {
            "text/plain": [
              "array([23, 24, 21, 34, 45, 67], dtype=int32)"
            ]
          },
          "metadata": {},
          "execution_count": 17
        }
      ]
    },
    {
      "cell_type": "markdown",
      "source": [
        "# **Array Operations**"
      ],
      "metadata": {
        "id": "YfHgGT-tjVvW"
      }
    },
    {
      "cell_type": "code",
      "source": [
        "a1=np.arange(12).reshape(3,4)\n",
        "a2=np.arange(12,24).reshape(3,4)\n",
        "print(a1)\n",
        "print(a2)"
      ],
      "metadata": {
        "colab": {
          "base_uri": "https://localhost:8080/"
        },
        "id": "jfpginage21h",
        "outputId": "83e38318-3771-4463-c370-8205af16b221"
      },
      "execution_count": 18,
      "outputs": [
        {
          "output_type": "stream",
          "name": "stdout",
          "text": [
            "[[ 0  1  2  3]\n",
            " [ 4  5  6  7]\n",
            " [ 8  9 10 11]]\n",
            "[[12 13 14 15]\n",
            " [16 17 18 19]\n",
            " [20 21 22 23]]\n"
          ]
        }
      ]
    },
    {
      "cell_type": "code",
      "source": [
        "#arithmetic\n",
        "a1*5"
      ],
      "metadata": {
        "colab": {
          "base_uri": "https://localhost:8080/"
        },
        "id": "Z_I429QejoP2",
        "outputId": "33f4d4ca-16a1-47c0-c9f1-a135aa66b74b"
      },
      "execution_count": 19,
      "outputs": [
        {
          "output_type": "execute_result",
          "data": {
            "text/plain": [
              "array([[ 0,  5, 10, 15],\n",
              "       [20, 25, 30, 35],\n",
              "       [40, 45, 50, 55]])"
            ]
          },
          "metadata": {},
          "execution_count": 19
        }
      ]
    },
    {
      "cell_type": "code",
      "source": [
        "a2>=15"
      ],
      "metadata": {
        "colab": {
          "base_uri": "https://localhost:8080/"
        },
        "id": "jpwy1D630siE",
        "outputId": "ea3a80ef-29df-4b43-feff-339057733131"
      },
      "execution_count": 20,
      "outputs": [
        {
          "output_type": "execute_result",
          "data": {
            "text/plain": [
              "array([[False, False, False,  True],\n",
              "       [ True,  True,  True,  True],\n",
              "       [ True,  True,  True,  True]])"
            ]
          },
          "metadata": {},
          "execution_count": 20
        }
      ]
    },
    {
      "cell_type": "code",
      "source": [
        "#vector operations\n",
        "print(a1+a2)\n",
        "print(a1*a2)\n",
        "print(a1%a2)\n",
        "print(a1/a2)\n",
        "print(a1-a2)\n",
        "print(a1^a2)\n",
        "print(a1**a2)"
      ],
      "metadata": {
        "colab": {
          "base_uri": "https://localhost:8080/"
        },
        "id": "RphUnZ2P0x35",
        "outputId": "2e3bf0cc-40ff-41b5-d296-f06887b9a2fb"
      },
      "execution_count": 21,
      "outputs": [
        {
          "output_type": "stream",
          "name": "stdout",
          "text": [
            "[[12 14 16 18]\n",
            " [20 22 24 26]\n",
            " [28 30 32 34]]\n",
            "[[  0  13  28  45]\n",
            " [ 64  85 108 133]\n",
            " [160 189 220 253]]\n",
            "[[ 0  1  2  3]\n",
            " [ 4  5  6  7]\n",
            " [ 8  9 10 11]]\n",
            "[[0.         0.07692308 0.14285714 0.2       ]\n",
            " [0.25       0.29411765 0.33333333 0.36842105]\n",
            " [0.4        0.42857143 0.45454545 0.47826087]]\n",
            "[[-12 -12 -12 -12]\n",
            " [-12 -12 -12 -12]\n",
            " [-12 -12 -12 -12]]\n",
            "[[12 12 12 12]\n",
            " [20 20 20 20]\n",
            " [28 28 28 28]]\n",
            "[[                   0                    1                16384\n",
            "              14348907]\n",
            " [          4294967296         762939453125      101559956668416\n",
            "     11398895185373143]\n",
            " [ 1152921504606846976 -1261475310744950487  1864712049423024128\n",
            "   6839173302027254275]]\n"
          ]
        }
      ]
    },
    {
      "cell_type": "markdown",
      "source": [
        "# *Array  Functions**"
      ],
      "metadata": {
        "id": "vuJTWgW7vn9-"
      }
    },
    {
      "cell_type": "code",
      "source": [
        "f1=np.random.random((3,3))\n",
        "a1=np.round(a1*100)\n",
        "a1"
      ],
      "metadata": {
        "id": "wbQPDL1c10VT",
        "colab": {
          "base_uri": "https://localhost:8080/"
        },
        "outputId": "bd1d210c-0173-4dc5-ce73-222ad31b7b07"
      },
      "execution_count": 22,
      "outputs": [
        {
          "output_type": "execute_result",
          "data": {
            "text/plain": [
              "array([[   0,  100,  200,  300],\n",
              "       [ 400,  500,  600,  700],\n",
              "       [ 800,  900, 1000, 1100]])"
            ]
          },
          "metadata": {},
          "execution_count": 22
        }
      ]
    },
    {
      "cell_type": "code",
      "source": [
        "#max/min/sum/prod\n",
        "np.max(a1,axis=1)"
      ],
      "metadata": {
        "colab": {
          "base_uri": "https://localhost:8080/"
        },
        "id": "n1nBoqLRxCXN",
        "outputId": "9691e1c8-3fdf-426b-8676-9f2c4ccbb264"
      },
      "execution_count": 23,
      "outputs": [
        {
          "output_type": "execute_result",
          "data": {
            "text/plain": [
              "array([ 300,  700, 1100])"
            ]
          },
          "metadata": {},
          "execution_count": 23
        }
      ]
    },
    {
      "cell_type": "code",
      "source": [
        "np.prod(a1,axis=0)"
      ],
      "metadata": {
        "colab": {
          "base_uri": "https://localhost:8080/"
        },
        "id": "qFy7G8cmxbKR",
        "outputId": "99bb3f74-503c-45f1-86cc-d38aa06bd618"
      },
      "execution_count": 24,
      "outputs": [
        {
          "output_type": "execute_result",
          "data": {
            "text/plain": [
              "array([        0,  45000000, 120000000, 231000000])"
            ]
          },
          "metadata": {},
          "execution_count": 24
        }
      ]
    },
    {
      "cell_type": "code",
      "source": [
        "np.sum(a1,axis=1)\n",
        "print(np.sum(a1,axis=0))"
      ],
      "metadata": {
        "colab": {
          "base_uri": "https://localhost:8080/"
        },
        "id": "_yZY92aGyI_Q",
        "outputId": "17b22de3-f206-4a3d-cbda-a8f02e3a64ab"
      },
      "execution_count": 25,
      "outputs": [
        {
          "output_type": "stream",
          "name": "stdout",
          "text": [
            "[1200 1500 1800 2100]\n"
          ]
        }
      ]
    },
    {
      "cell_type": "code",
      "source": [
        "#mean\n",
        "np.mean(a1,axis=1)"
      ],
      "metadata": {
        "colab": {
          "base_uri": "https://localhost:8080/"
        },
        "id": "q2QSyxlmyRGe",
        "outputId": "baf3fc32-7c99-4609-a36c-aede45acbbea"
      },
      "execution_count": 26,
      "outputs": [
        {
          "output_type": "execute_result",
          "data": {
            "text/plain": [
              "array([150., 550., 950.])"
            ]
          },
          "metadata": {},
          "execution_count": 26
        }
      ]
    },
    {
      "cell_type": "code",
      "source": [
        "#median\n",
        "np.median(a1,axis=1)"
      ],
      "metadata": {
        "colab": {
          "base_uri": "https://localhost:8080/"
        },
        "id": "eRKi2epLzhjP",
        "outputId": "44c19d4a-0f14-4a0c-a439-d981d04f1a05"
      },
      "execution_count": 27,
      "outputs": [
        {
          "output_type": "execute_result",
          "data": {
            "text/plain": [
              "array([150., 550., 950.])"
            ]
          },
          "metadata": {},
          "execution_count": 27
        }
      ]
    },
    {
      "cell_type": "code",
      "source": [
        "#dot product\n",
        "a3=np.array([1,2,3,4])\n",
        "a4=np.array([4,5,6,7],dtype=float)\n",
        "np.dot(a3,a4)"
      ],
      "metadata": {
        "colab": {
          "base_uri": "https://localhost:8080/"
        },
        "id": "ODu6g3vs0wSF",
        "outputId": "11e8f03f-568a-411c-946b-96361aa73bc4"
      },
      "execution_count": 28,
      "outputs": [
        {
          "output_type": "execute_result",
          "data": {
            "text/plain": [
              "60.0"
            ]
          },
          "metadata": {},
          "execution_count": 28
        }
      ]
    },
    {
      "cell_type": "code",
      "source": [
        "#standard deviation\n",
        "np.std(a1)"
      ],
      "metadata": {
        "colab": {
          "base_uri": "https://localhost:8080/"
        },
        "id": "9ItM9qCy15-I",
        "outputId": "bdbdd8c3-d6e7-48d7-ce69-8fcf3a2c4631"
      },
      "execution_count": 29,
      "outputs": [
        {
          "output_type": "execute_result",
          "data": {
            "text/plain": [
              "345.2052529534663"
            ]
          },
          "metadata": {},
          "execution_count": 29
        }
      ]
    },
    {
      "cell_type": "code",
      "source": [
        "#variance\n",
        "np.var(a1)"
      ],
      "metadata": {
        "colab": {
          "base_uri": "https://localhost:8080/"
        },
        "id": "kC5Hc4_I454E",
        "outputId": "2a7b5c4b-4414-4a70-ba3b-470e8c7557a9"
      },
      "execution_count": 30,
      "outputs": [
        {
          "output_type": "execute_result",
          "data": {
            "text/plain": [
              "119166.66666666667"
            ]
          },
          "metadata": {},
          "execution_count": 30
        }
      ]
    },
    {
      "cell_type": "code",
      "source": [
        "#sine,cosine,tan\n",
        "print(np.sin(a3))\n",
        "print(np.cos(a3))\n",
        "print(np.tan(a3))"
      ],
      "metadata": {
        "colab": {
          "base_uri": "https://localhost:8080/"
        },
        "id": "yyt2yyQ449VD",
        "outputId": "9e7aee92-f1f0-44e3-c3e3-af64770010a2"
      },
      "execution_count": 31,
      "outputs": [
        {
          "output_type": "stream",
          "name": "stdout",
          "text": [
            "[ 0.84147098  0.90929743  0.14112001 -0.7568025 ]\n",
            "[ 0.54030231 -0.41614684 -0.9899925  -0.65364362]\n",
            "[ 1.55740772 -2.18503986 -0.14254654  1.15782128]\n"
          ]
        }
      ]
    },
    {
      "cell_type": "code",
      "source": [
        "#log and exponents\n",
        "print(np.log(a4))\n",
        "print(np.exp(a4))"
      ],
      "metadata": {
        "colab": {
          "base_uri": "https://localhost:8080/"
        },
        "id": "pU7TVR575asM",
        "outputId": "f1791c35-6afd-4a5d-bafd-678d501979eb"
      },
      "execution_count": 32,
      "outputs": [
        {
          "output_type": "stream",
          "name": "stdout",
          "text": [
            "[1.38629436 1.60943791 1.79175947 1.94591015]\n",
            "[  54.59815003  148.4131591   403.42879349 1096.63315843]\n"
          ]
        }
      ]
    },
    {
      "cell_type": "code",
      "source": [
        "#round/ceil/floor\n",
        "a5=np.random.random((4,5))*100\n",
        "print(f\"a5 matrix is :\\n{a5}\")\n",
        "print(f\"round matrix is :\\n{np.round(a5)}\")\n",
        "print(f\"ceil matrix is :\\n{np.ceil(a5)}\")\n",
        "print(f\"floor matrix is :\\n{np.floor(a5)}\")"
      ],
      "metadata": {
        "colab": {
          "base_uri": "https://localhost:8080/"
        },
        "id": "gaJoflwY6CGi",
        "outputId": "37a31cf2-eb5e-4bec-c22c-63e483bc16f0"
      },
      "execution_count": 33,
      "outputs": [
        {
          "output_type": "stream",
          "name": "stdout",
          "text": [
            "a5 matrix is :\n",
            "[[88.40220154 69.35028786 97.29435273 52.25375435 51.26632539]\n",
            " [34.9666185   1.85230836 84.18559823 26.19639206 58.33251063]\n",
            " [48.20035053 46.19563524 48.84761181 38.84719863 12.04290775]\n",
            " [59.52295907 25.34074102 16.71689109 10.55214186 12.57526615]]\n",
            "round matrix is :\n",
            "[[88. 69. 97. 52. 51.]\n",
            " [35.  2. 84. 26. 58.]\n",
            " [48. 46. 49. 39. 12.]\n",
            " [60. 25. 17. 11. 13.]]\n",
            "ceil matrix is :\n",
            "[[89. 70. 98. 53. 52.]\n",
            " [35.  2. 85. 27. 59.]\n",
            " [49. 47. 49. 39. 13.]\n",
            " [60. 26. 17. 11. 13.]]\n",
            "floor matrix is :\n",
            "[[88. 69. 97. 52. 51.]\n",
            " [34.  1. 84. 26. 58.]\n",
            " [48. 46. 48. 38. 12.]\n",
            " [59. 25. 16. 10. 12.]]\n"
          ]
        }
      ]
    },
    {
      "cell_type": "markdown",
      "source": [
        "# **Indexing and Slicing**"
      ],
      "metadata": {
        "id": "SkRPVrsl_IP6"
      }
    },
    {
      "cell_type": "code",
      "source": [
        "c1=np.arange(16)\n",
        "c2=np.arange(12).reshape(3,4)\n",
        "c3=np.arange(8).reshape(2,2,2)\n",
        "print(f\"c1 is :\\n{c1}\")\n",
        "print(f\"c2 is :\\n{c2}\")\n",
        "print(f\"c3 is :\\n{c3}\")"
      ],
      "metadata": {
        "colab": {
          "base_uri": "https://localhost:8080/"
        },
        "id": "s5y12fY26Yw8",
        "outputId": "895f3523-93d2-4424-dd20-b62ae758b2f3"
      },
      "execution_count": 34,
      "outputs": [
        {
          "output_type": "stream",
          "name": "stdout",
          "text": [
            "c1 is :\n",
            "[ 0  1  2  3  4  5  6  7  8  9 10 11 12 13 14 15]\n",
            "c2 is :\n",
            "[[ 0  1  2  3]\n",
            " [ 4  5  6  7]\n",
            " [ 8  9 10 11]]\n",
            "c3 is :\n",
            "[[[0 1]\n",
            "  [2 3]]\n",
            "\n",
            " [[4 5]\n",
            "  [6 7]]]\n"
          ]
        }
      ]
    },
    {
      "cell_type": "code",
      "source": [
        "#for 1-D\n",
        "print(c1[-1])\n",
        "print(c1[0])"
      ],
      "metadata": {
        "colab": {
          "base_uri": "https://localhost:8080/"
        },
        "id": "xMNNtaLo_bpP",
        "outputId": "eecca09b-995f-4516-e1fa-e9d08fdcdcce"
      },
      "execution_count": 35,
      "outputs": [
        {
          "output_type": "stream",
          "name": "stdout",
          "text": [
            "15\n",
            "0\n"
          ]
        }
      ]
    },
    {
      "cell_type": "code",
      "source": [
        "#For 2D\n",
        "print(c2[1][2])\n",
        "print(c2[1])\n",
        "print(c2[-1][1])"
      ],
      "metadata": {
        "colab": {
          "base_uri": "https://localhost:8080/"
        },
        "id": "dHmouZkP_voO",
        "outputId": "8de62f95-9d72-4967-c13b-d49681bc5500"
      },
      "execution_count": 36,
      "outputs": [
        {
          "output_type": "stream",
          "name": "stdout",
          "text": [
            "6\n",
            "[4 5 6 7]\n",
            "9\n"
          ]
        }
      ]
    },
    {
      "cell_type": "code",
      "source": [
        "#For 3D\n",
        "print(c3)\n",
        "print(\"-------------\")\n",
        "print(c3[1][0][1])\n",
        "print(c3[1,0,1])"
      ],
      "metadata": {
        "colab": {
          "base_uri": "https://localhost:8080/"
        },
        "id": "bcIBucvdAjgV",
        "outputId": "4379bc6e-c17c-4e66-d6a8-8d6bb1a6c8fb"
      },
      "execution_count": 37,
      "outputs": [
        {
          "output_type": "stream",
          "name": "stdout",
          "text": [
            "[[[0 1]\n",
            "  [2 3]]\n",
            "\n",
            " [[4 5]\n",
            "  [6 7]]]\n",
            "-------------\n",
            "5\n",
            "5\n"
          ]
        }
      ]
    },
    {
      "cell_type": "code",
      "source": [
        "#slicing\n",
        "print(c1[2:5])"
      ],
      "metadata": {
        "colab": {
          "base_uri": "https://localhost:8080/"
        },
        "id": "EMLa3StwB0Ow",
        "outputId": "368b923e-4a0b-4f22-ac40-9956aade109f"
      },
      "execution_count": 38,
      "outputs": [
        {
          "output_type": "stream",
          "name": "stdout",
          "text": [
            "[2 3 4]\n"
          ]
        }
      ]
    },
    {
      "cell_type": "code",
      "source": [
        "print(c2[:3,0])\n",
        "print(c2[:,:])\n",
        "print(c2[:,-1])\n",
        "print(c2[1:3,1:3])\n",
        "print(c2[::2,::3])\n",
        "print(c2[1,::3])\n",
        "print(c2[0:2,1:4])"
      ],
      "metadata": {
        "colab": {
          "base_uri": "https://localhost:8080/"
        },
        "id": "KIxJIXIWDRH6",
        "outputId": "6de489a1-6b60-4bfb-b63e-d5fa809f6bfc"
      },
      "execution_count": 44,
      "outputs": [
        {
          "output_type": "stream",
          "name": "stdout",
          "text": [
            "[0 4 8]\n",
            "[[ 0  1  2  3]\n",
            " [ 4  5  6  7]\n",
            " [ 8  9 10 11]]\n",
            "[ 3  7 11]\n",
            "[[ 5  6]\n",
            " [ 9 10]]\n",
            "[[ 0  3]\n",
            " [ 8 11]]\n",
            "[4 7]\n",
            "[[1 2 3]\n",
            " [5 6 7]]\n"
          ]
        }
      ]
    },
    {
      "cell_type": "code",
      "source": [
        "q=np.arange(27).reshape(3,3,3)\n",
        "q\n"
      ],
      "metadata": {
        "id": "vPPQFvlODanN",
        "colab": {
          "base_uri": "https://localhost:8080/"
        },
        "outputId": "b05703e6-aa26-4efa-f713-040611306238"
      },
      "execution_count": 47,
      "outputs": [
        {
          "output_type": "execute_result",
          "data": {
            "text/plain": [
              "array([[[ 0,  1,  2],\n",
              "        [ 3,  4,  5],\n",
              "        [ 6,  7,  8]],\n",
              "\n",
              "       [[ 9, 10, 11],\n",
              "        [12, 13, 14],\n",
              "        [15, 16, 17]],\n",
              "\n",
              "       [[18, 19, 20],\n",
              "        [21, 22, 23],\n",
              "        [24, 25, 26]]])"
            ]
          },
          "metadata": {},
          "execution_count": 47
        }
      ]
    },
    {
      "cell_type": "code",
      "source": [
        "print(q[1])\n",
        "print(q[::2])\n",
        "print(q[0,1,:3])\n",
        "print(q[1,:,1])\n",
        "print(q[2,1:,1:])\n",
        "print(q[::2,0,::2])"
      ],
      "metadata": {
        "colab": {
          "base_uri": "https://localhost:8080/"
        },
        "id": "Zk6OjVjgDla_",
        "outputId": "4fec83d7-8354-4c03-eee3-659dce14b2ea"
      },
      "execution_count": 56,
      "outputs": [
        {
          "output_type": "stream",
          "name": "stdout",
          "text": [
            "[[ 9 10 11]\n",
            " [12 13 14]\n",
            " [15 16 17]]\n",
            "[[[ 0  1  2]\n",
            "  [ 3  4  5]\n",
            "  [ 6  7  8]]\n",
            "\n",
            " [[18 19 20]\n",
            "  [21 22 23]\n",
            "  [24 25 26]]]\n",
            "[3 4 5]\n",
            "[10 13 16]\n",
            "[[22 23]\n",
            " [25 26]]\n",
            "[[ 0  2]\n",
            " [18 20]]\n"
          ]
        }
      ]
    },
    {
      "cell_type": "markdown",
      "source": [
        "#Iterating"
      ],
      "metadata": {
        "id": "rzPhE2CpL1yE"
      }
    },
    {
      "cell_type": "code",
      "source": [
        "print(c1)\n",
        "print(c2)"
      ],
      "metadata": {
        "colab": {
          "base_uri": "https://localhost:8080/"
        },
        "id": "vovOniTKFEgf",
        "outputId": "e21af433-118e-4e8e-a23c-578a53efb18a"
      },
      "execution_count": 58,
      "outputs": [
        {
          "output_type": "stream",
          "name": "stdout",
          "text": [
            "[ 0  1  2  3  4  5  6  7  8  9 10 11 12 13 14 15]\n",
            "[[ 0  1  2  3]\n",
            " [ 4  5  6  7]\n",
            " [ 8  9 10 11]]\n"
          ]
        }
      ]
    },
    {
      "cell_type": "code",
      "source": [
        "for i in np.nditer(c2):\n",
        "  print(i)"
      ],
      "metadata": {
        "colab": {
          "base_uri": "https://localhost:8080/"
        },
        "id": "u9pl7MnFL66v",
        "outputId": "96d83c9f-a65a-4071-d4c6-0096ac0262b2"
      },
      "execution_count": 59,
      "outputs": [
        {
          "output_type": "stream",
          "name": "stdout",
          "text": [
            "0\n",
            "1\n",
            "2\n",
            "3\n",
            "4\n",
            "5\n",
            "6\n",
            "7\n",
            "8\n",
            "9\n",
            "10\n",
            "11\n"
          ]
        }
      ]
    },
    {
      "cell_type": "code",
      "source": [
        "#3D array\n",
        "for i in np.nditer(q):\n",
        "  print(i)"
      ],
      "metadata": {
        "colab": {
          "base_uri": "https://localhost:8080/"
        },
        "id": "NqzWmF8-O8FM",
        "outputId": "8aa75550-8ecd-40d3-e841-216fed3a73ce"
      },
      "execution_count": 61,
      "outputs": [
        {
          "output_type": "stream",
          "name": "stdout",
          "text": [
            "0\n",
            "1\n",
            "2\n",
            "3\n",
            "4\n",
            "5\n",
            "6\n",
            "7\n",
            "8\n",
            "9\n",
            "10\n",
            "11\n",
            "12\n",
            "13\n",
            "14\n",
            "15\n",
            "16\n",
            "17\n",
            "18\n",
            "19\n",
            "20\n",
            "21\n",
            "22\n",
            "23\n",
            "24\n",
            "25\n",
            "26\n"
          ]
        }
      ]
    },
    {
      "cell_type": "markdown",
      "source": [
        "# **Reshaping**"
      ],
      "metadata": {
        "id": "8BzD8KEQQBVa"
      }
    },
    {
      "cell_type": "code",
      "source": [
        "#reshape\n",
        "r=np.arange(12).reshape(2,6)\n",
        "r"
      ],
      "metadata": {
        "colab": {
          "base_uri": "https://localhost:8080/"
        },
        "id": "UCdE35t3QA7F",
        "outputId": "02a6ba56-00a8-4203-b366-b7f70058671f"
      },
      "execution_count": 65,
      "outputs": [
        {
          "output_type": "execute_result",
          "data": {
            "text/plain": [
              "array([[ 0,  1,  2,  3,  4,  5],\n",
              "       [ 6,  7,  8,  9, 10, 11]])"
            ]
          },
          "metadata": {},
          "execution_count": 65
        }
      ]
    },
    {
      "cell_type": "code",
      "source": [
        "#transpose\n",
        "r.T"
      ],
      "metadata": {
        "colab": {
          "base_uri": "https://localhost:8080/"
        },
        "id": "qTmjJDyYRBnG",
        "outputId": "ade925a9-f20c-437e-92ed-4a6dfcf8239c"
      },
      "execution_count": 66,
      "outputs": [
        {
          "output_type": "execute_result",
          "data": {
            "text/plain": [
              "array([[ 0,  6],\n",
              "       [ 1,  7],\n",
              "       [ 2,  8],\n",
              "       [ 3,  9],\n",
              "       [ 4, 10],\n",
              "       [ 5, 11]])"
            ]
          },
          "metadata": {},
          "execution_count": 66
        }
      ]
    },
    {
      "cell_type": "code",
      "source": [
        "q1=q.ravel()\n",
        "q1"
      ],
      "metadata": {
        "colab": {
          "base_uri": "https://localhost:8080/"
        },
        "id": "-ldFPA_VR676",
        "outputId": "8f8a9776-809b-4a64-acc4-c0608245aaa7"
      },
      "execution_count": 67,
      "outputs": [
        {
          "output_type": "execute_result",
          "data": {
            "text/plain": [
              "array([ 0,  1,  2,  3,  4,  5,  6,  7,  8,  9, 10, 11, 12, 13, 14, 15, 16,\n",
              "       17, 18, 19, 20, 21, 22, 23, 24, 25, 26])"
            ]
          },
          "metadata": {},
          "execution_count": 67
        }
      ]
    },
    {
      "cell_type": "markdown",
      "source": [
        "**Stacking**"
      ],
      "metadata": {
        "id": "K6JtlwRUUhOS"
      }
    },
    {
      "cell_type": "code",
      "source": [
        "#horizontally\n",
        "b1=np.arange(12).reshape(3,4)\n",
        "b2=np.arange(12,24).reshape(3,4)\n",
        "print(b1)\n",
        "print(b2)"
      ],
      "metadata": {
        "colab": {
          "base_uri": "https://localhost:8080/"
        },
        "id": "SpAmJRzUSuh2",
        "outputId": "82d20785-2520-40f4-da11-982635896f3f"
      },
      "execution_count": 70,
      "outputs": [
        {
          "output_type": "stream",
          "name": "stdout",
          "text": [
            "[[ 0  1  2  3]\n",
            " [ 4  5  6  7]\n",
            " [ 8  9 10 11]]\n",
            "[[12 13 14 15]\n",
            " [16 17 18 19]\n",
            " [20 21 22 23]]\n"
          ]
        }
      ]
    },
    {
      "cell_type": "code",
      "source": [
        "print(np.hstack((b1,b2,b1,b2)))"
      ],
      "metadata": {
        "colab": {
          "base_uri": "https://localhost:8080/"
        },
        "id": "9jits2DBTsfW",
        "outputId": "262887b3-061f-4828-b2a7-199302769662"
      },
      "execution_count": 73,
      "outputs": [
        {
          "output_type": "stream",
          "name": "stdout",
          "text": [
            "[[ 0  1  2  3 12 13 14 15  0  1  2  3 12 13 14 15]\n",
            " [ 4  5  6  7 16 17 18 19  4  5  6  7 16 17 18 19]\n",
            " [ 8  9 10 11 20 21 22 23  8  9 10 11 20 21 22 23]]\n"
          ]
        }
      ]
    },
    {
      "cell_type": "code",
      "source": [
        "#vertical stacking\n",
        "print(np.vstack((b1,b2)))\n",
        "print(\"---------------------\")\n",
        "print(np.vstack((b1,b2,b1+b2,b2)))"
      ],
      "metadata": {
        "colab": {
          "base_uri": "https://localhost:8080/"
        },
        "id": "GUB93gTGVzIm",
        "outputId": "94805e48-482e-4fe2-ef16-430d975c15f2"
      },
      "execution_count": 77,
      "outputs": [
        {
          "output_type": "stream",
          "name": "stdout",
          "text": [
            "[[ 0  1  2  3]\n",
            " [ 4  5  6  7]\n",
            " [ 8  9 10 11]\n",
            " [12 13 14 15]\n",
            " [16 17 18 19]\n",
            " [20 21 22 23]]\n",
            "---------------------\n",
            "[[ 0  1  2  3]\n",
            " [ 4  5  6  7]\n",
            " [ 8  9 10 11]\n",
            " [12 13 14 15]\n",
            " [16 17 18 19]\n",
            " [20 21 22 23]\n",
            " [12 14 16 18]\n",
            " [20 22 24 26]\n",
            " [28 30 32 34]\n",
            " [12 13 14 15]\n",
            " [16 17 18 19]\n",
            " [20 21 22 23]]\n"
          ]
        }
      ]
    },
    {
      "cell_type": "code",
      "source": [
        "print(np.vstack((b1*2,b1*b2,b2*2)))"
      ],
      "metadata": {
        "colab": {
          "base_uri": "https://localhost:8080/"
        },
        "id": "B4Drj2mzWoV5",
        "outputId": "a05a4255-4fe1-4894-8dda-5623cc3f5ac0"
      },
      "execution_count": 78,
      "outputs": [
        {
          "output_type": "stream",
          "name": "stdout",
          "text": [
            "[[  0   2   4   6]\n",
            " [  8  10  12  14]\n",
            " [ 16  18  20  22]\n",
            " [  0  13  28  45]\n",
            " [ 64  85 108 133]\n",
            " [160 189 220 253]\n",
            " [ 24  26  28  30]\n",
            " [ 32  34  36  38]\n",
            " [ 40  42  44  46]]\n"
          ]
        }
      ]
    },
    {
      "cell_type": "markdown",
      "source": [
        "# **Splitting**"
      ],
      "metadata": {
        "id": "nvn8OHq6YJ0D"
      }
    },
    {
      "cell_type": "code",
      "source": [
        "#horizontal splitting\n",
        "print(np.hsplit(b2,4))"
      ],
      "metadata": {
        "colab": {
          "base_uri": "https://localhost:8080/"
        },
        "id": "ERwfO4zMXa03",
        "outputId": "478aa964-e265-41ba-946c-f7707c3502d8"
      },
      "execution_count": 80,
      "outputs": [
        {
          "output_type": "stream",
          "name": "stdout",
          "text": [
            "[array([[12],\n",
            "       [16],\n",
            "       [20]]), array([[13],\n",
            "       [17],\n",
            "       [21]]), array([[14],\n",
            "       [18],\n",
            "       [22]]), array([[15],\n",
            "       [19],\n",
            "       [23]])]\n"
          ]
        }
      ]
    },
    {
      "cell_type": "code",
      "source": [
        "np.hsplit(b2,2)"
      ],
      "metadata": {
        "colab": {
          "base_uri": "https://localhost:8080/"
        },
        "id": "HgPMhFdbYXYD",
        "outputId": "a9e46125-ef01-4b59-efeb-1a73a349355f"
      },
      "execution_count": 84,
      "outputs": [
        {
          "output_type": "execute_result",
          "data": {
            "text/plain": [
              "[array([[12, 13],\n",
              "        [16, 17],\n",
              "        [20, 21]]),\n",
              " array([[14, 15],\n",
              "        [18, 19],\n",
              "        [22, 23]])]"
            ]
          },
          "metadata": {},
          "execution_count": 84
        }
      ]
    },
    {
      "cell_type": "code",
      "source": [
        "#vertical splitting\n",
        "print(b2)\n",
        "print(np.vsplit(b2,3))"
      ],
      "metadata": {
        "colab": {
          "base_uri": "https://localhost:8080/"
        },
        "id": "06G7FKukY10o",
        "outputId": "21475480-35fd-4de8-b009-48fc6660f4c2"
      },
      "execution_count": 87,
      "outputs": [
        {
          "output_type": "stream",
          "name": "stdout",
          "text": [
            "[[12 13 14 15]\n",
            " [16 17 18 19]\n",
            " [20 21 22 23]]\n",
            "[array([[12, 13, 14, 15]]), array([[16, 17, 18, 19]]), array([[20, 21, 22, 23]])]\n"
          ]
        }
      ]
    },
    {
      "cell_type": "code",
      "source": [],
      "metadata": {
        "id": "_hZ-qTN7ZZHo"
      },
      "execution_count": null,
      "outputs": []
    }
  ]
}